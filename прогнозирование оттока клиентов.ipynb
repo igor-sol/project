{
 "cells": [
  {
   "cell_type": "markdown",
   "metadata": {
    "toc": true
   },
   "source": [
    "<h1>Содержание<span class=\"tocSkip\"></span></h1>\n",
    "<div class=\"toc\"><ul class=\"toc-item\"><li><span><a href=\"#Подготовка-данных\" data-toc-modified-id=\"Подготовка-данных-1\"><span class=\"toc-item-num\">1&nbsp;&nbsp;</span>Подготовка данных</a></span></li><li><span><a href=\"#Исследование-задачи\" data-toc-modified-id=\"Исследование-задачи-2\"><span class=\"toc-item-num\">2&nbsp;&nbsp;</span>Исследование задачи</a></span></li><li><span><a href=\"#Борьба-с-дисбалансом\" data-toc-modified-id=\"Борьба-с-дисбалансом-3\"><span class=\"toc-item-num\">3&nbsp;&nbsp;</span>Борьба с дисбалансом</a></span></li><li><span><a href=\"#Тестирование-модели\" data-toc-modified-id=\"Тестирование-модели-4\"><span class=\"toc-item-num\">4&nbsp;&nbsp;</span>Тестирование модели</a></span></li><li><span><a href=\"#Чек-лист-готовности-проекта\" data-toc-modified-id=\"Чек-лист-готовности-проекта-5\"><span class=\"toc-item-num\">5&nbsp;&nbsp;</span>Чек-лист готовности проекта</a></span></li><li><span><a href=\"#Общий-вывод-по-проекту\" data-toc-modified-id=\"Общий-вывод-по-проекту-6\"><span class=\"toc-item-num\">6&nbsp;&nbsp;</span><b>Общий вывод по проекту</b></a></span>"
   ]
  },
  {
   "cell_type": "markdown",
   "metadata": {},
   "source": [
    "# Отток клиентов"
   ]
  },
  {
   "cell_type": "markdown",
   "metadata": {},
   "source": [
    "Из «Бета-Банка» стали уходить клиенты. Каждый месяц. Немного, но заметно. Банковские маркетологи посчитали: сохранять текущих клиентов дешевле, чем привлекать новых.\n",
    "\n",
    "Нужно спрогнозировать, уйдёт клиент из банка в ближайшее время или нет. Вам предоставлены исторические данные о поведении клиентов и расторжении договоров с банком. \n",
    "\n",
    "Постройте модель с предельно большим значением *F1*-меры. Чтобы сдать проект успешно, нужно довести метрику до 0.59. Проверьте *F1*-меру на тестовой выборке самостоятельно.\n",
    "\n",
    "Дополнительно измеряйте *AUC-ROC*, сравнивайте её значение с *F1*-мерой.\n",
    "\n",
    "Источник данных: [https://www.kaggle.com/barelydedicated/bank-customer-churn-modeling](https://www.kaggle.com/barelydedicated/bank-customer-churn-modeling)"
   ]
  },
  {
   "cell_type": "markdown",
   "metadata": {},
   "source": [
    "## Подготовка данных"
   ]
  },
  {
   "cell_type": "code",
   "execution_count": 1,
   "metadata": {},
   "outputs": [],
   "source": [
    "import pandas as pd\n",
    "import numpy as np\n",
    "from sklearn.tree import DecisionTreeClassifier, plot_tree\n",
    "from sklearn.ensemble import RandomForestClassifier\n",
    "from sklearn.model_selection import train_test_split\n",
    "from sklearn.preprocessing import StandardScaler\n",
    "from sklearn.model_selection import GridSearchCV\n",
    "from sklearn.dummy import DummyClassifier\n",
    "from sklearn.metrics import f1_score\n",
    "from sklearn.metrics import confusion_matrix\n",
    "from sklearn.metrics import roc_auc_score\n",
    "from sklearn.metrics import recall_score\n",
    "from sklearn.metrics import precision_score\n",
    "from sklearn.utils import shuffle"
   ]
  },
  {
   "cell_type": "code",
   "execution_count": 2,
   "metadata": {
    "scrolled": false
   },
   "outputs": [
    {
     "name": "stdout",
     "output_type": "stream",
     "text": [
      "<class 'pandas.core.frame.DataFrame'>\n",
      "RangeIndex: 10000 entries, 0 to 9999\n",
      "Data columns (total 14 columns):\n",
      " #   Column           Non-Null Count  Dtype  \n",
      "---  ------           --------------  -----  \n",
      " 0   RowNumber        10000 non-null  int64  \n",
      " 1   CustomerId       10000 non-null  int64  \n",
      " 2   Surname          10000 non-null  object \n",
      " 3   CreditScore      10000 non-null  int64  \n",
      " 4   Geography        10000 non-null  object \n",
      " 5   Gender           10000 non-null  object \n",
      " 6   Age              10000 non-null  int64  \n",
      " 7   Tenure           9091 non-null   float64\n",
      " 8   Balance          10000 non-null  float64\n",
      " 9   NumOfProducts    10000 non-null  int64  \n",
      " 10  HasCrCard        10000 non-null  int64  \n",
      " 11  IsActiveMember   10000 non-null  int64  \n",
      " 12  EstimatedSalary  10000 non-null  float64\n",
      " 13  Exited           10000 non-null  int64  \n",
      "dtypes: float64(3), int64(8), object(3)\n",
      "memory usage: 1.1+ MB\n"
     ]
    }
   ],
   "source": [
    "data = pd.read_csv('C:/Users/ToK/study/Churn.csv')\n",
    "data.info()"
   ]
  },
  {
   "cell_type": "markdown",
   "metadata": {},
   "source": [
    "Целевой признак Exited - факт ухода клиента. Остальные данные являются признаками. Столбец 'Tenure' (сколько лет человек является клиентом банка) содержит недостающие значения. Расмотри таблицу данных по объектам где остутсвуют значения 'Tenure'."
   ]
  },
  {
   "cell_type": "code",
   "execution_count": 3,
   "metadata": {
    "scrolled": true
   },
   "outputs": [
    {
     "data": {
      "text/html": [
       "<div>\n",
       "<style scoped>\n",
       "    .dataframe tbody tr th:only-of-type {\n",
       "        vertical-align: middle;\n",
       "    }\n",
       "\n",
       "    .dataframe tbody tr th {\n",
       "        vertical-align: top;\n",
       "    }\n",
       "\n",
       "    .dataframe thead th {\n",
       "        text-align: right;\n",
       "    }\n",
       "</style>\n",
       "<table border=\"1\" class=\"dataframe\">\n",
       "  <thead>\n",
       "    <tr style=\"text-align: right;\">\n",
       "      <th></th>\n",
       "      <th>RowNumber</th>\n",
       "      <th>CustomerId</th>\n",
       "      <th>Surname</th>\n",
       "      <th>CreditScore</th>\n",
       "      <th>Geography</th>\n",
       "      <th>Gender</th>\n",
       "      <th>Age</th>\n",
       "      <th>Tenure</th>\n",
       "      <th>Balance</th>\n",
       "      <th>NumOfProducts</th>\n",
       "      <th>HasCrCard</th>\n",
       "      <th>IsActiveMember</th>\n",
       "      <th>EstimatedSalary</th>\n",
       "      <th>Exited</th>\n",
       "    </tr>\n",
       "  </thead>\n",
       "  <tbody>\n",
       "    <tr>\n",
       "      <th>30</th>\n",
       "      <td>31</td>\n",
       "      <td>15589475</td>\n",
       "      <td>Azikiwe</td>\n",
       "      <td>591</td>\n",
       "      <td>Spain</td>\n",
       "      <td>Female</td>\n",
       "      <td>39</td>\n",
       "      <td>NaN</td>\n",
       "      <td>0.00</td>\n",
       "      <td>3</td>\n",
       "      <td>1</td>\n",
       "      <td>0</td>\n",
       "      <td>140469.38</td>\n",
       "      <td>1</td>\n",
       "    </tr>\n",
       "    <tr>\n",
       "      <th>48</th>\n",
       "      <td>49</td>\n",
       "      <td>15766205</td>\n",
       "      <td>Yin</td>\n",
       "      <td>550</td>\n",
       "      <td>Germany</td>\n",
       "      <td>Male</td>\n",
       "      <td>38</td>\n",
       "      <td>NaN</td>\n",
       "      <td>103391.38</td>\n",
       "      <td>1</td>\n",
       "      <td>0</td>\n",
       "      <td>1</td>\n",
       "      <td>90878.13</td>\n",
       "      <td>0</td>\n",
       "    </tr>\n",
       "    <tr>\n",
       "      <th>51</th>\n",
       "      <td>52</td>\n",
       "      <td>15768193</td>\n",
       "      <td>Trevisani</td>\n",
       "      <td>585</td>\n",
       "      <td>Germany</td>\n",
       "      <td>Male</td>\n",
       "      <td>36</td>\n",
       "      <td>NaN</td>\n",
       "      <td>146050.97</td>\n",
       "      <td>2</td>\n",
       "      <td>0</td>\n",
       "      <td>0</td>\n",
       "      <td>86424.57</td>\n",
       "      <td>0</td>\n",
       "    </tr>\n",
       "    <tr>\n",
       "      <th>53</th>\n",
       "      <td>54</td>\n",
       "      <td>15702298</td>\n",
       "      <td>Parkhill</td>\n",
       "      <td>655</td>\n",
       "      <td>Germany</td>\n",
       "      <td>Male</td>\n",
       "      <td>41</td>\n",
       "      <td>NaN</td>\n",
       "      <td>125561.97</td>\n",
       "      <td>1</td>\n",
       "      <td>0</td>\n",
       "      <td>0</td>\n",
       "      <td>164040.94</td>\n",
       "      <td>1</td>\n",
       "    </tr>\n",
       "    <tr>\n",
       "      <th>60</th>\n",
       "      <td>61</td>\n",
       "      <td>15651280</td>\n",
       "      <td>Hunter</td>\n",
       "      <td>742</td>\n",
       "      <td>Germany</td>\n",
       "      <td>Male</td>\n",
       "      <td>35</td>\n",
       "      <td>NaN</td>\n",
       "      <td>136857.00</td>\n",
       "      <td>1</td>\n",
       "      <td>0</td>\n",
       "      <td>0</td>\n",
       "      <td>84509.57</td>\n",
       "      <td>0</td>\n",
       "    </tr>\n",
       "    <tr>\n",
       "      <th>...</th>\n",
       "      <td>...</td>\n",
       "      <td>...</td>\n",
       "      <td>...</td>\n",
       "      <td>...</td>\n",
       "      <td>...</td>\n",
       "      <td>...</td>\n",
       "      <td>...</td>\n",
       "      <td>...</td>\n",
       "      <td>...</td>\n",
       "      <td>...</td>\n",
       "      <td>...</td>\n",
       "      <td>...</td>\n",
       "      <td>...</td>\n",
       "      <td>...</td>\n",
       "    </tr>\n",
       "    <tr>\n",
       "      <th>9944</th>\n",
       "      <td>9945</td>\n",
       "      <td>15703923</td>\n",
       "      <td>Cameron</td>\n",
       "      <td>744</td>\n",
       "      <td>Germany</td>\n",
       "      <td>Male</td>\n",
       "      <td>41</td>\n",
       "      <td>NaN</td>\n",
       "      <td>190409.34</td>\n",
       "      <td>2</td>\n",
       "      <td>1</td>\n",
       "      <td>1</td>\n",
       "      <td>138361.48</td>\n",
       "      <td>0</td>\n",
       "    </tr>\n",
       "    <tr>\n",
       "      <th>9956</th>\n",
       "      <td>9957</td>\n",
       "      <td>15707861</td>\n",
       "      <td>Nucci</td>\n",
       "      <td>520</td>\n",
       "      <td>France</td>\n",
       "      <td>Female</td>\n",
       "      <td>46</td>\n",
       "      <td>NaN</td>\n",
       "      <td>85216.61</td>\n",
       "      <td>1</td>\n",
       "      <td>1</td>\n",
       "      <td>0</td>\n",
       "      <td>117369.52</td>\n",
       "      <td>1</td>\n",
       "    </tr>\n",
       "    <tr>\n",
       "      <th>9964</th>\n",
       "      <td>9965</td>\n",
       "      <td>15642785</td>\n",
       "      <td>Douglas</td>\n",
       "      <td>479</td>\n",
       "      <td>France</td>\n",
       "      <td>Male</td>\n",
       "      <td>34</td>\n",
       "      <td>NaN</td>\n",
       "      <td>117593.48</td>\n",
       "      <td>2</td>\n",
       "      <td>0</td>\n",
       "      <td>0</td>\n",
       "      <td>113308.29</td>\n",
       "      <td>0</td>\n",
       "    </tr>\n",
       "    <tr>\n",
       "      <th>9985</th>\n",
       "      <td>9986</td>\n",
       "      <td>15586914</td>\n",
       "      <td>Nepean</td>\n",
       "      <td>659</td>\n",
       "      <td>France</td>\n",
       "      <td>Male</td>\n",
       "      <td>36</td>\n",
       "      <td>NaN</td>\n",
       "      <td>123841.49</td>\n",
       "      <td>2</td>\n",
       "      <td>1</td>\n",
       "      <td>0</td>\n",
       "      <td>96833.00</td>\n",
       "      <td>0</td>\n",
       "    </tr>\n",
       "    <tr>\n",
       "      <th>9999</th>\n",
       "      <td>10000</td>\n",
       "      <td>15628319</td>\n",
       "      <td>Walker</td>\n",
       "      <td>792</td>\n",
       "      <td>France</td>\n",
       "      <td>Female</td>\n",
       "      <td>28</td>\n",
       "      <td>NaN</td>\n",
       "      <td>130142.79</td>\n",
       "      <td>1</td>\n",
       "      <td>1</td>\n",
       "      <td>0</td>\n",
       "      <td>38190.78</td>\n",
       "      <td>0</td>\n",
       "    </tr>\n",
       "  </tbody>\n",
       "</table>\n",
       "<p>909 rows × 14 columns</p>\n",
       "</div>"
      ],
      "text/plain": [
       "      RowNumber  CustomerId    Surname  CreditScore Geography  Gender  Age  \\\n",
       "30           31    15589475    Azikiwe          591     Spain  Female   39   \n",
       "48           49    15766205        Yin          550   Germany    Male   38   \n",
       "51           52    15768193  Trevisani          585   Germany    Male   36   \n",
       "53           54    15702298   Parkhill          655   Germany    Male   41   \n",
       "60           61    15651280     Hunter          742   Germany    Male   35   \n",
       "...         ...         ...        ...          ...       ...     ...  ...   \n",
       "9944       9945    15703923    Cameron          744   Germany    Male   41   \n",
       "9956       9957    15707861      Nucci          520    France  Female   46   \n",
       "9964       9965    15642785    Douglas          479    France    Male   34   \n",
       "9985       9986    15586914     Nepean          659    France    Male   36   \n",
       "9999      10000    15628319     Walker          792    France  Female   28   \n",
       "\n",
       "      Tenure    Balance  NumOfProducts  HasCrCard  IsActiveMember  \\\n",
       "30       NaN       0.00              3          1               0   \n",
       "48       NaN  103391.38              1          0               1   \n",
       "51       NaN  146050.97              2          0               0   \n",
       "53       NaN  125561.97              1          0               0   \n",
       "60       NaN  136857.00              1          0               0   \n",
       "...      ...        ...            ...        ...             ...   \n",
       "9944     NaN  190409.34              2          1               1   \n",
       "9956     NaN   85216.61              1          1               0   \n",
       "9964     NaN  117593.48              2          0               0   \n",
       "9985     NaN  123841.49              2          1               0   \n",
       "9999     NaN  130142.79              1          1               0   \n",
       "\n",
       "      EstimatedSalary  Exited  \n",
       "30          140469.38       1  \n",
       "48           90878.13       0  \n",
       "51           86424.57       0  \n",
       "53          164040.94       1  \n",
       "60           84509.57       0  \n",
       "...               ...     ...  \n",
       "9944        138361.48       0  \n",
       "9956        117369.52       1  \n",
       "9964        113308.29       0  \n",
       "9985         96833.00       0  \n",
       "9999         38190.78       0  \n",
       "\n",
       "[909 rows x 14 columns]"
      ]
     },
     "metadata": {},
     "output_type": "display_data"
    }
   ],
   "source": [
    "display(data[data['Tenure'].isnull() == True])"
   ]
  },
  {
   "cell_type": "code",
   "execution_count": 4,
   "metadata": {
    "scrolled": true
   },
   "outputs": [
    {
     "data": {
      "text/plain": [
       "count    9091.000000\n",
       "mean        4.997690\n",
       "std         2.894723\n",
       "min         0.000000\n",
       "25%         2.000000\n",
       "50%         5.000000\n",
       "75%         7.000000\n",
       "max        10.000000\n",
       "Name: Tenure, dtype: float64"
      ]
     },
     "metadata": {},
     "output_type": "display_data"
    }
   ],
   "source": [
    "display(data['Tenure'].describe())"
   ]
  },
  {
   "cell_type": "code",
   "execution_count": 5,
   "metadata": {
    "scrolled": true
   },
   "outputs": [
    {
     "data": {
      "text/plain": [
       "<AxesSubplot:>"
      ]
     },
     "metadata": {},
     "output_type": "display_data"
    },
    {
     "data": {
      "image/png": "[encoded data removed]",
      "text/plain": [
       "<Figure size 432x288 with 1 Axes>"
      ]
     },
     "metadata": {
      "needs_background": "light"
     },
     "output_type": "display_data"
    }
   ],
   "source": [
    "display(data['Tenure'].hist())"
   ]
  },
  {
   "cell_type": "markdown",
   "metadata": {},
   "source": [
    "Закономерностей среди этих данных не наблюдается. Значения меняются от 0 до 10. Заполним пропуски случайными значениями в этом диапазоне."
   ]
  },
  {
   "cell_type": "code",
   "execution_count": 6,
   "metadata": {},
   "outputs": [],
   "source": [
    "data['Tenure'] = data['Tenure'].fillna(value=-1)"
   ]
  },
  {
   "cell_type": "markdown",
   "metadata": {},
   "source": [
    "Столбцы:\n",
    "'RowNumber',\n",
    "'CustomerId',\n",
    "'Surname' не повлияют на факт ухода клиента. Удалим их."
   ]
  },
  {
   "cell_type": "code",
   "execution_count": 7,
   "metadata": {},
   "outputs": [],
   "source": [
    "data = data.drop(['RowNumber', 'CustomerId', 'Surname'], axis=1)"
   ]
  },
  {
   "cell_type": "markdown",
   "metadata": {},
   "source": [
    "Преобразуем категориальные признаки в численные методом прямого кодирования с удалением первого столбца. Выделим target и features."
   ]
  },
  {
   "cell_type": "code",
   "execution_count": 8,
   "metadata": {},
   "outputs": [],
   "source": [
    "data_ohe = pd.get_dummies(data, drop_first=True)\n",
    "target = data_ohe['Exited']\n",
    "features = data_ohe.drop('Exited', axis=1)"
   ]
  },
  {
   "cell_type": "markdown",
   "metadata": {},
   "source": [
    "Проведем масштабирование численных признаков. К численным признакам относятся данные в столбцах 'CreditScore','Age', 'Tenure', 'Balance','NumOfProducts','EstimatedSalary'. Рассмотрим их корреляцию."
   ]
  },
  {
   "cell_type": "code",
   "execution_count": 9,
   "metadata": {
    "scrolled": true
   },
   "outputs": [
    {
     "data": {
      "text/html": [
       "<div>\n",
       "<style scoped>\n",
       "    .dataframe tbody tr th:only-of-type {\n",
       "        vertical-align: middle;\n",
       "    }\n",
       "\n",
       "    .dataframe tbody tr th {\n",
       "        vertical-align: top;\n",
       "    }\n",
       "\n",
       "    .dataframe thead th {\n",
       "        text-align: right;\n",
       "    }\n",
       "</style>\n",
       "<table border=\"1\" class=\"dataframe\">\n",
       "  <thead>\n",
       "    <tr style=\"text-align: right;\">\n",
       "      <th></th>\n",
       "      <th>CreditScore</th>\n",
       "      <th>Age</th>\n",
       "      <th>Tenure</th>\n",
       "      <th>Balance</th>\n",
       "      <th>NumOfProducts</th>\n",
       "      <th>EstimatedSalary</th>\n",
       "    </tr>\n",
       "  </thead>\n",
       "  <tbody>\n",
       "    <tr>\n",
       "      <th>CreditScore</th>\n",
       "      <td>1.000000</td>\n",
       "      <td>-0.003965</td>\n",
       "      <td>0.003552</td>\n",
       "      <td>0.006268</td>\n",
       "      <td>0.012238</td>\n",
       "      <td>-0.001384</td>\n",
       "    </tr>\n",
       "    <tr>\n",
       "      <th>Age</th>\n",
       "      <td>-0.003965</td>\n",
       "      <td>1.000000</td>\n",
       "      <td>-0.006315</td>\n",
       "      <td>0.028308</td>\n",
       "      <td>-0.030680</td>\n",
       "      <td>-0.007201</td>\n",
       "    </tr>\n",
       "    <tr>\n",
       "      <th>Tenure</th>\n",
       "      <td>0.003552</td>\n",
       "      <td>-0.006315</td>\n",
       "      <td>1.000000</td>\n",
       "      <td>-0.005400</td>\n",
       "      <td>0.009661</td>\n",
       "      <td>0.011174</td>\n",
       "    </tr>\n",
       "    <tr>\n",
       "      <th>Balance</th>\n",
       "      <td>0.006268</td>\n",
       "      <td>0.028308</td>\n",
       "      <td>-0.005400</td>\n",
       "      <td>1.000000</td>\n",
       "      <td>-0.304180</td>\n",
       "      <td>0.012797</td>\n",
       "    </tr>\n",
       "    <tr>\n",
       "      <th>NumOfProducts</th>\n",
       "      <td>0.012238</td>\n",
       "      <td>-0.030680</td>\n",
       "      <td>0.009661</td>\n",
       "      <td>-0.304180</td>\n",
       "      <td>1.000000</td>\n",
       "      <td>0.014204</td>\n",
       "    </tr>\n",
       "    <tr>\n",
       "      <th>EstimatedSalary</th>\n",
       "      <td>-0.001384</td>\n",
       "      <td>-0.007201</td>\n",
       "      <td>0.011174</td>\n",
       "      <td>0.012797</td>\n",
       "      <td>0.014204</td>\n",
       "      <td>1.000000</td>\n",
       "    </tr>\n",
       "  </tbody>\n",
       "</table>\n",
       "</div>"
      ],
      "text/plain": [
       "                 CreditScore       Age    Tenure   Balance  NumOfProducts  \\\n",
       "CreditScore         1.000000 -0.003965  0.003552  0.006268       0.012238   \n",
       "Age                -0.003965  1.000000 -0.006315  0.028308      -0.030680   \n",
       "Tenure              0.003552 -0.006315  1.000000 -0.005400       0.009661   \n",
       "Balance             0.006268  0.028308 -0.005400  1.000000      -0.304180   \n",
       "NumOfProducts       0.012238 -0.030680  0.009661 -0.304180       1.000000   \n",
       "EstimatedSalary    -0.001384 -0.007201  0.011174  0.012797       0.014204   \n",
       "\n",
       "                 EstimatedSalary  \n",
       "CreditScore            -0.001384  \n",
       "Age                    -0.007201  \n",
       "Tenure                  0.011174  \n",
       "Balance                 0.012797  \n",
       "NumOfProducts           0.014204  \n",
       "EstimatedSalary         1.000000  "
      ]
     },
     "execution_count": 9,
     "metadata": {},
     "output_type": "execute_result"
    }
   ],
   "source": [
    "numeric = ['CreditScore','Age', 'Tenure', 'Balance','NumOfProducts','EstimatedSalary']\n",
    "data[numeric].corr()"
   ]
  },
  {
   "cell_type": "markdown",
   "metadata": {},
   "source": [
    "Значимой корреляции численных признаков не наблюдается. Ничего удалять не требуется."
   ]
  },
  {
   "cell_type": "markdown",
   "metadata": {},
   "source": [
    "Масштабируем признаки с помощью метода стандартизации данных"
   ]
  },
  {
   "cell_type": "markdown",
   "metadata": {},
   "source": [
    "Выделим обучающую, валидационную и тестовую выборки."
   ]
  },
  {
   "cell_type": "code",
   "execution_count": 10,
   "metadata": {},
   "outputs": [],
   "source": [
    "features_train, features_test, target_train, target_test = train_test_split(\n",
    "    features, target, test_size=0.4, random_state=12345)\n",
    "features_valid, features_test, target_valid, target_test = train_test_split(\n",
    "    features_test, target_test, test_size=0.5, random_state=12345)"
   ]
  },
  {
   "cell_type": "markdown",
   "metadata": {},
   "source": [
    "Масштабируем признаки с помощью метода стандартизации данных"
   ]
  },
  {
   "cell_type": "code",
   "execution_count": 11,
   "metadata": {
    "scrolled": true
   },
   "outputs": [],
   "source": [
    "scaler = StandardScaler()\n",
    "scaler.fit(features_train[numeric]) \n",
    "features_train[numeric] = scaler.transform(features_train[numeric])\n",
    "scaler.fit(features_valid[numeric]) \n",
    "features_valid[numeric] = scaler.transform(features_valid[numeric])\n",
    "scaler.fit(features_test[numeric]) \n",
    "features_test[numeric] = scaler.transform(features_test[numeric])"
   ]
  },
  {
   "cell_type": "markdown",
   "metadata": {},
   "source": [
    "## Исследование задачи"
   ]
  },
  {
   "cell_type": "code",
   "execution_count": 12,
   "metadata": {},
   "outputs": [
    {
     "data": {
      "text/plain": [
       "0    7963\n",
       "1    2037\n",
       "Name: Exited, dtype: int64"
      ]
     },
     "execution_count": 12,
     "metadata": {},
     "output_type": "execute_result"
    }
   ],
   "source": [
    "#Рассмотрим значения целевого признака\n",
    "target.value_counts()"
   ]
  },
  {
   "cell_type": "markdown",
   "metadata": {},
   "source": [
    "Наблюдается дисбаланс классов. Положительных исходов почти в 4 раза меньше."
   ]
  },
  {
   "cell_type": "code",
   "execution_count": 13,
   "metadata": {
    "scrolled": false
   },
   "outputs": [
    {
     "data": {
      "text/plain": [
       "France     5014\n",
       "Germany    2509\n",
       "Spain      2477\n",
       "Name: Geography, dtype: int64"
      ]
     },
     "execution_count": 13,
     "metadata": {},
     "output_type": "execute_result"
    }
   ],
   "source": [
    "# Рассмотрим значения по столбцу Geography\n",
    "data['Geography'].value_counts()"
   ]
  },
  {
   "cell_type": "markdown",
   "metadata": {},
   "source": [
    "Данные по Франции составляют половину от общего значения"
   ]
  },
  {
   "cell_type": "code",
   "execution_count": 14,
   "metadata": {
    "scrolled": true
   },
   "outputs": [
    {
     "data": {
      "text/plain": [
       "Male      5457\n",
       "Female    4543\n",
       "Name: Gender, dtype: int64"
      ]
     },
     "execution_count": 14,
     "metadata": {},
     "output_type": "execute_result"
    }
   ],
   "source": [
    "# Рассмотрим значения по столбцу Gender\n",
    "data['Gender'].value_counts()"
   ]
  },
  {
   "cell_type": "markdown",
   "metadata": {},
   "source": [
    "Доля лиц мужского пола немного больше"
   ]
  },
  {
   "cell_type": "code",
   "execution_count": 15,
   "metadata": {
    "scrolled": true
   },
   "outputs": [
    {
     "data": {
      "text/plain": [
       "count    10000.000000\n",
       "mean        38.921800\n",
       "std         10.487806\n",
       "min         18.000000\n",
       "25%         32.000000\n",
       "50%         37.000000\n",
       "75%         44.000000\n",
       "max         92.000000\n",
       "Name: Age, dtype: float64"
      ]
     },
     "execution_count": 15,
     "metadata": {},
     "output_type": "execute_result"
    }
   ],
   "source": [
    "# Рассмотрим значения по столбцу Age\n",
    "data['Age'].describe()"
   ]
  },
  {
   "cell_type": "code",
   "execution_count": 16,
   "metadata": {},
   "outputs": [
    {
     "data": {
      "text/plain": [
       "<AxesSubplot:>"
      ]
     },
     "execution_count": 16,
     "metadata": {},
     "output_type": "execute_result"
    },
    {
     "data": {
      "image/png": "[encoded data removed]",
      "text/plain": [
       "<Figure size 432x288 with 1 Axes>"
      ]
     },
     "metadata": {
      "needs_background": "light"
     },
     "output_type": "display_data"
    }
   ],
   "source": [
    "data['Age'].hist()"
   ]
  },
  {
   "cell_type": "markdown",
   "metadata": {},
   "source": [
    "Имеем скошенное врпаво распределение. Люди с возрастом все реже пользуются услугами банков. Одна из причин это рост смертности, что добавляет положительных исходов в целевой признак."
   ]
  },
  {
   "cell_type": "code",
   "execution_count": 17,
   "metadata": {
    "scrolled": false
   },
   "outputs": [
    {
     "data": {
      "text/plain": [
       "count     10000.000000\n",
       "mean      76485.889288\n",
       "std       62397.405202\n",
       "min           0.000000\n",
       "25%           0.000000\n",
       "50%       97198.540000\n",
       "75%      127644.240000\n",
       "max      250898.090000\n",
       "Name: Balance, dtype: float64"
      ]
     },
     "execution_count": 17,
     "metadata": {},
     "output_type": "execute_result"
    }
   ],
   "source": [
    "# Рассмотрим значения по столбцу Balance\n",
    "data['Balance'].describe()"
   ]
  },
  {
   "cell_type": "code",
   "execution_count": 18,
   "metadata": {
    "scrolled": true
   },
   "outputs": [
    {
     "data": {
      "text/plain": [
       "<AxesSubplot:>"
      ]
     },
     "execution_count": 18,
     "metadata": {},
     "output_type": "execute_result"
    },
    {
     "data": {
      "image/png": "[encoded data removed]",
      "text/plain": [
       "<Figure size 432x288 with 1 Axes>"
      ]
     },
     "metadata": {
      "needs_background": "light"
     },
     "output_type": "display_data"
    }
   ],
   "source": [
    "data['Balance'].hist()"
   ]
  },
  {
   "cell_type": "markdown",
   "metadata": {},
   "source": [
    "Более 35% клиентов имеет нулевой баланс на счетах."
   ]
  },
  {
   "cell_type": "markdown",
   "metadata": {},
   "source": [
    "Обучим модели решающего дерева и случайного леса без учета дисбаланса классов"
   ]
  },
  {
   "cell_type": "code",
   "execution_count": 19,
   "metadata": {},
   "outputs": [
    {
     "name": "stdout",
     "output_type": "stream",
     "text": [
      "best_depth = 6\n",
      "F1: 0.56752655538695\n",
      "AUC_ROC: 0.8159293547626104\n"
     ]
    }
   ],
   "source": [
    "# Обучим модель решающего дерева\n",
    "best_depth = 0\n",
    "f1_best = 0\n",
    "AUC_ROC_best = 0\n",
    "for depth in range(1, 20, 1):\n",
    "    model = DecisionTreeClassifier(max_depth=depth, random_state=12345)\n",
    "    model.fit(features_train, target_train)\n",
    "    predicted_valid = model.predict(features_valid)\n",
    "    probabilities_valid = model.predict_proba(features_valid)\n",
    "    probabilities_one_valid = probabilities_valid[:, 1]\n",
    "    f1 = f1_score(target_valid, predicted_valid)\n",
    "    if f1 > f1_best:\n",
    "        f1_best = f1\n",
    "        best_depth = depth\n",
    "        AUC_ROC_best = roc_auc_score(target_valid, probabilities_one_valid)  \n",
    "print('best_depth =', best_depth)   \n",
    "print('F1:',f1_best, )  \n",
    "print('AUC_ROC:', AUC_ROC_best)  "
   ]
  },
  {
   "cell_type": "code",
   "execution_count": 20,
   "metadata": {},
   "outputs": [
    {
     "name": "stdout",
     "output_type": "stream",
     "text": [
      "best_depth = 15\n",
      "best_est = 50\n",
      "F1: 0.6038291605301914\n",
      "AUC_ROC: 0.8455055075339193\n"
     ]
    }
   ],
   "source": [
    "# Обучим модель случайного леса\n",
    "best_depth = 0\n",
    "best_est = 0\n",
    "f1_best = 0\n",
    "AUC_ROC_best = 0\n",
    "for depth in range(5, 16, 1):\n",
    "    best_result = 0\n",
    "    for est in range(50, 100, 10):\n",
    "        model = RandomForestClassifier(n_estimators=est, max_depth=depth, random_state=12345)\n",
    "        model.fit(features_train, target_train)\n",
    "        predicted_valid = model.predict(features_valid)\n",
    "        f1 = f1_score(target_valid, predicted_valid)\n",
    "        probabilities_valid = model.predict_proba(features_valid)\n",
    "        probabilities_one_valid = probabilities_valid[:, 1]\n",
    "        if f1 > f1_best:\n",
    "            f1_best = f1\n",
    "            best_depth = depth\n",
    "            best_est = est\n",
    "            AUC_ROC_best = roc_auc_score(target_valid, probabilities_one_valid)\n",
    "print('best_depth =', best_depth)   \n",
    "print('best_est =', best_est)  \n",
    "print('F1:',f1_best, )  \n",
    "print('AUC_ROC:', AUC_ROC_best)  "
   ]
  },
  {
   "cell_type": "markdown",
   "metadata": {},
   "source": [
    "Наблюдается дисбаланс классов. Положительных исходов почти в 4 раза меньше. Так же большая часть данных отностится к клиентам банка, проживающим во Франции. Модели, полученные без учета дисбаланса классов показали неплохие результаты. Модель случайного леса дает лучший результат, который на валидационной выборке превышает целевой признак F1 = 0,59."
   ]
  },
  {
   "cell_type": "markdown",
   "metadata": {},
   "source": [
    "## Борьба с дисбалансом"
   ]
  },
  {
   "cell_type": "markdown",
   "metadata": {},
   "source": [
    "Обучим модели с применением аргумента class_weight='balanced'"
   ]
  },
  {
   "cell_type": "code",
   "execution_count": 21,
   "metadata": {},
   "outputs": [
    {
     "name": "stdout",
     "output_type": "stream",
     "text": [
      "best_depth = 5\n",
      "F1: 0.5963791267305644\n",
      "AUC_ROC: 0.8310244134068074\n"
     ]
    }
   ],
   "source": [
    "# Обучим модель решающего дерева\n",
    "best_depth = 0\n",
    "f1_best = 0\n",
    "AUC_ROC_best = 0\n",
    "for depth in range(1, 20, 1):\n",
    "    model = DecisionTreeClassifier(max_depth=depth, random_state=12345, class_weight='balanced')\n",
    "    model.fit(features_train, target_train)\n",
    "    predicted_valid = model.predict(features_valid)\n",
    "    probabilities_valid = model.predict_proba(features_valid)\n",
    "    probabilities_one_valid = probabilities_valid[:, 1]\n",
    "    f1 = f1_score(target_valid, predicted_valid)\n",
    "    if f1 > f1_best:\n",
    "        f1_best = f1\n",
    "        best_depth = depth\n",
    "        AUC_ROC_best = roc_auc_score(target_valid, probabilities_one_valid)  \n",
    "print('best_depth =', best_depth)   \n",
    "print('F1:',f1_best, )  \n",
    "print('AUC_ROC:', AUC_ROC_best)  "
   ]
  },
  {
   "cell_type": "code",
   "execution_count": 22,
   "metadata": {},
   "outputs": [
    {
     "name": "stdout",
     "output_type": "stream",
     "text": [
      "best_depth = 8\n",
      "best_est = 130\n",
      "F1: 0.6299559471365639\n",
      "AUC_ROC: 0.8547127069483846\n"
     ]
    }
   ],
   "source": [
    "# Обучим модель случайного леса\n",
    "best_depth = 0\n",
    "best_est = 0\n",
    "f1_best = 0\n",
    "AUC_ROC_best = 0\n",
    "for depth in range(1, 16, 1):\n",
    "    best_result = 0\n",
    "    for est in range(40, 150, 10):\n",
    "        model = RandomForestClassifier(n_estimators=est, max_depth=depth, class_weight='balanced', random_state=12345)\n",
    "        model.fit(features_train, target_train)\n",
    "        predicted_valid = model.predict(features_valid)\n",
    "        f1 = f1_score(target_valid, predicted_valid)\n",
    "        probabilities_valid = model.predict_proba(features_valid)\n",
    "        probabilities_one_valid = probabilities_valid[:, 1]\n",
    "        if f1 > f1_best:\n",
    "            f1_best = f1\n",
    "            best_depth = depth\n",
    "            best_est = est\n",
    "            AUC_ROC_best = roc_auc_score(target_valid, probabilities_one_valid)\n",
    "print('best_depth =', best_depth)   \n",
    "print('best_est =', best_est)  \n",
    "print('F1:',f1_best, )  \n",
    "print('AUC_ROC:', AUC_ROC_best)  "
   ]
  },
  {
   "cell_type": "markdown",
   "metadata": {},
   "source": [
    "Метрики моделей немного улучшились."
   ]
  },
  {
   "cell_type": "markdown",
   "metadata": {},
   "source": [
    "Обучим модель с применение метода upsempling. Увеличим количесво положительных объектов. Для этого напишем функцию с параметрами features, target и repeat, которая вернет признак и целевой признак после увеличения выборки."
   ]
  },
  {
   "cell_type": "code",
   "execution_count": 23,
   "metadata": {},
   "outputs": [],
   "source": [
    "def upsample(features, target, repeat):\n",
    "    features_zeros = features[target == 0]\n",
    "    features_ones = features[target == 1]\n",
    "    target_zeros = target[target == 0]\n",
    "    target_ones = target[target == 1]\n",
    "\n",
    "    features_upsampled = pd.concat([features_zeros] + [features_ones] * repeat)\n",
    "    target_upsampled = pd.concat([target_zeros] + [target_ones] * repeat)\n",
    "    \n",
    "    features_upsampled, target_upsampled = shuffle(\n",
    "        features_upsampled, target_upsampled, random_state=12345)\n",
    "    \n",
    "    return features_upsampled, target_upsampled"
   ]
  },
  {
   "cell_type": "code",
   "execution_count": 24,
   "metadata": {},
   "outputs": [],
   "source": [
    "features_upsampled, target_upsampled = upsample(features_train, target_train, 3)"
   ]
  },
  {
   "cell_type": "markdown",
   "metadata": {},
   "source": [
    "Лучший показатель метрик обеспечивается при значении repeat = 3. Прочие расчеты не приведены для уменьшения времени обработки."
   ]
  },
  {
   "cell_type": "code",
   "execution_count": 25,
   "metadata": {},
   "outputs": [],
   "source": [
    "# Обучим модель решающего дерева\n",
    "parametrs = {\n",
    "    'max_depth': range(2,8,1),\n",
    "    'min_samples_split': range(5,30,5), \n",
    "    'min_samples_leaf': [2, 3, 4, 5, 7],}\n",
    "model = GridSearchCV(DecisionTreeClassifier(random_state=12345),\n",
    "                 parametrs,\n",
    "                 scoring = 'f1',\n",
    "                 n_jobs = -1)\n",
    "model = model.fit(features_upsampled, target_upsampled) "
   ]
  },
  {
   "cell_type": "code",
   "execution_count": 26,
   "metadata": {},
   "outputs": [
    {
     "name": "stdout",
     "output_type": "stream",
     "text": [
      "roc_auc: 0.8192086209086675\n",
      "F1: 0.5692007797270955\n",
      "best_param:  {'max_depth': 7, 'min_samples_leaf': 2, 'min_samples_split': 15}\n"
     ]
    }
   ],
   "source": [
    "print('roc_auc:', roc_auc_score(target_valid, model.predict_proba(features_valid)[:, 1]))\n",
    "print('F1:', f1_score(target_valid, model.predict(features_valid)))\n",
    "print('best_param: ', model.best_params_)"
   ]
  },
  {
   "cell_type": "code",
   "execution_count": 27,
   "metadata": {
    "scrolled": true
   },
   "outputs": [],
   "source": [
    "# Обучим модель случайного леса\n",
    "parametrs = {\n",
    "    'criterion':['gini','entropy'],\n",
    "    'n_estimators': range(50,150,5),\n",
    "    'max_depth': range(1,15,1),\n",
    "    'min_samples_leaf': [3, 4, 5, 10],}\n",
    "\n",
    "model = GridSearchCV(RandomForestClassifier(random_state=12345),\n",
    "                     parametrs, \n",
    "                     scoring = 'f1',\n",
    "                     n_jobs = -1)\n",
    "model = model.fit(features_upsampled, target_upsampled)"
   ]
  },
  {
   "cell_type": "code",
   "execution_count": 28,
   "metadata": {},
   "outputs": [
    {
     "name": "stdout",
     "output_type": "stream",
     "text": [
      "roc_auc: 0.8476747984200242\n",
      "F1: 0.6233128834355829\n",
      "best_param:  {'criterion': 'entropy', 'max_depth': 14, 'min_samples_leaf': 3, 'n_estimators': 145}\n"
     ]
    }
   ],
   "source": [
    "print('roc_auc:', roc_auc_score(target_valid, model.predict_proba(features_valid)[:, 1]))\n",
    "print('F1:', f1_score(target_valid, model.predict(features_valid)))\n",
    "print('best_param: ', model.best_params_)"
   ]
  },
  {
   "cell_type": "markdown",
   "metadata": {},
   "source": [
    "Метрики моделей немного улучшились. Лучшей моделью по прежнему является случайный лес."
   ]
  },
  {
   "cell_type": "code",
   "execution_count": 29,
   "metadata": {},
   "outputs": [],
   "source": [
    "def downsample(features, target, fraction):\n",
    "    features_zeros = features[target == 0]\n",
    "    features_ones = features[target == 1]\n",
    "    target_zeros = target[target == 0]\n",
    "    target_ones = target[target == 1]\n",
    "\n",
    "    features_downsampled = pd.concat(\n",
    "        [features_zeros.sample(frac=fraction, random_state=12345)] + [features_ones])\n",
    "    target_downsampled = pd.concat(\n",
    "        [target_zeros.sample(frac=fraction, random_state=12345)] + [target_ones])\n",
    "    \n",
    "    features_downsampled, target_downsampled = shuffle(\n",
    "        features_downsampled, target_downsampled, random_state=12345)\n",
    "    \n",
    "    return features_downsampled, target_downsampled\n"
   ]
  },
  {
   "cell_type": "code",
   "execution_count": 30,
   "metadata": {},
   "outputs": [],
   "source": [
    "features_downsampled, target_downsampled = downsample(features_train, target_train, 0.5)"
   ]
  },
  {
   "cell_type": "code",
   "execution_count": 31,
   "metadata": {
    "scrolled": true
   },
   "outputs": [],
   "source": [
    "# Обучим модель решающего дерева\n",
    "parametrs = {\n",
    "    'max_depth': range(2,8,1),\n",
    "    'min_samples_split': range(5,30,5), \n",
    "    'min_samples_leaf': [2, 3, 4, 5, 7],}\n",
    "model = GridSearchCV(DecisionTreeClassifier(random_state=12345),\n",
    "                 parametrs,\n",
    "                 scoring = 'f1',\n",
    "                 n_jobs = -1)\n",
    "model = model.fit(features_downsampled, target_downsampled) \n"
   ]
  },
  {
   "cell_type": "code",
   "execution_count": 32,
   "metadata": {
    "scrolled": true
   },
   "outputs": [
    {
     "name": "stdout",
     "output_type": "stream",
     "text": [
      "roc_auc: 0.8265709023161282\n",
      "F1: 0.5827338129496402\n",
      "best_param:  {'max_depth': 6, 'min_samples_leaf': 7, 'min_samples_split': 25}\n"
     ]
    }
   ],
   "source": [
    "print('roc_auc:', roc_auc_score(target_valid, model.predict_proba(features_valid)[:, 1]))\n",
    "print('F1:', f1_score(target_valid, model.predict(features_valid))) \n",
    "print('best_param: ', model.best_params_)"
   ]
  },
  {
   "cell_type": "code",
   "execution_count": 33,
   "metadata": {
    "scrolled": false
   },
   "outputs": [],
   "source": [
    "# Обучим модель случайного леса\n",
    "parametrs = {\n",
    "    'criterion':['gini','entropy'],\n",
    "    'n_estimators': range(50,150,5),\n",
    "    'max_depth': range(1,15,1),\n",
    "    'min_samples_leaf': [3, 4, 5, 10],}\n",
    "\n",
    "model = GridSearchCV(RandomForestClassifier(random_state=12345),\n",
    "                     parametrs, \n",
    "                     scoring = 'f1',\n",
    "                     n_jobs = -1)\n",
    "model = model.fit(features_downsampled, target_downsampled)"
   ]
  },
  {
   "cell_type": "code",
   "execution_count": 34,
   "metadata": {},
   "outputs": [
    {
     "name": "stdout",
     "output_type": "stream",
     "text": [
      "roc_auc: 0.8498115764068256\n",
      "F1: 0.6131025957972805\n",
      "best_param:  {'criterion': 'entropy', 'max_depth': 13, 'min_samples_leaf': 3, 'n_estimators': 145}\n"
     ]
    }
   ],
   "source": [
    "print('roc_auc:', roc_auc_score(target_valid, model.predict_proba(features_valid)[:, 1]))\n",
    "print('F1:', f1_score(target_valid, model.predict(features_valid)))\n",
    "print('best_param: ', model.best_params_)"
   ]
  },
  {
   "cell_type": "markdown",
   "metadata": {},
   "source": [
    "Так же были рассмотрены различные варианты соотношения значений repeat и fraction при одновременном использовании двух методов в одной функции, однако лучшего результата добиться не удалось. Лучшей оказывается модель случайного леса обученная на основе данных, полученных с помощью метода upsempling. Однако в зависимости от итерации значения метрик немного меняются. "
   ]
  },
  {
   "cell_type": "markdown",
   "metadata": {},
   "source": [
    "## Тестирование модели"
   ]
  },
  {
   "cell_type": "code",
   "execution_count": 37,
   "metadata": {},
   "outputs": [
    {
     "name": "stdout",
     "output_type": "stream",
     "text": [
      "F1: 0.6109324758842444\n",
      "AUC_ROC: 0.8543663268227819\n",
      "recall: 0.6737588652482269\n",
      "precision: 0.5588235294117647\n"
     ]
    }
   ],
   "source": [
    "model = RandomForestClassifier(n_estimators=130, max_depth=8, class_weight='balanced', random_state=12345)\n",
    "model.fit(features_train, target_train)\n",
    "predicted_test = model.predict(features_test)\n",
    "probabilities_test = model.predict_proba(features_test)\n",
    "probabilities_one_test = probabilities_test[:, 1]\n",
    "f1 = f1_score(target_test, predicted_test)\n",
    "AUC_ROC = roc_auc_score(target_test, probabilities_one_test)\n",
    "recall = recall_score(target_test, predicted_test)\n",
    "precision = precision_score(target_test, predicted_test)\n",
    "print('F1:',f1)  \n",
    "print('AUC_ROC:', AUC_ROC)  \n",
    "print('recall:', recall) \n",
    "print('precision:', precision) "
   ]
  },
  {
   "cell_type": "markdown",
   "metadata": {},
   "source": [
    "Для проверки модели на адекватность найдем метрики для встроенной в sklearn модели DummyClassifier."
   ]
  },
  {
   "cell_type": "code",
   "execution_count": 36,
   "metadata": {},
   "outputs": [
    {
     "name": "stdout",
     "output_type": "stream",
     "text": [
      "F1: 0.0\n",
      "AUC_ROC: 0.5\n",
      "recall: 0.0\n",
      "precision: 0.638961038961039\n"
     ]
    }
   ],
   "source": [
    "model_bl = DummyClassifier(strategy='prior', random_state=12345)\n",
    "model_bl.fit(features_train, target_train)\n",
    "predicted_test_dm = model_bl.predict(features_test)\n",
    "probabilities_test = model_bl.predict_proba(features_test)\n",
    "probabilities_one_test = probabilities_test[:, 1]\n",
    "f1 = f1_score(target_test, predicted_test_dm)\n",
    "AUC_ROC = roc_auc_score(target_test, probabilities_one_test)\n",
    "recall = recall_score(target_test, predicted_test_dm)\n",
    "precision = precision_score(target_test, predicted_test)\n",
    "print('F1:',f1)  \n",
    "print('AUC_ROC:', AUC_ROC)  \n",
    "print('recall:', recall) \n",
    "print('precision:', precision) "
   ]
  },
  {
   "cell_type": "markdown",
   "metadata": {},
   "source": [
    "Метрики исходной модели значительно выше. Модель адекватна. Метрика F1 выбранной модели больше заданного значения 0.59. AUC_ROC больше 0,5, а значит классификатор правильно угадывает положительные и отрицательные значения целевого признака."
   ]
  },
  {
   "cell_type": "markdown",
   "metadata": {},
   "source": [
    "<br><b>*Вывод:*</b>\n",
    "<br>При загрузке и исследовании данных было выявлено, что столбец *'Tenure'* (сколько лет человек является клиентом банка) содержит недостающие значения. отдельное рассмотнрение данных с отсутсвующим значением *'Tenure'* не выявило каких либо закономерностей, поэтому пропуски были заполнены значением *(-1)*. Столбцы *'RowNumber', 'CustomerId', 'Surname'* не влияли на факт ухода клиента и были удалены.\n",
    "<br>Выборка была разбита на обучающую, валидационную и тостовую в соотношении *0.6:0.2:0.2*. Затем произведено масштабирование признаков с помощью метода стандартизации данных.\n",
    "<br>При исследовании данных был выявлен явный дисбаланс классов. Положительных исходов почти в 4 раза меньше чем отрицательных.\n",
    "Были обучены модели решающего дерева и случайного леса без учета дисбаланса классов. Метрики модели случайного леса удовлетворяли условию задачи, однако их можно улучшить.\n",
    "<br> Для преодоления дисбаланса классов применялись следующие способы:\n",
    "- обучение модели с применением аргумента *class_weight='balanced'*\n",
    "- метод *upsampling*\n",
    "- метод *downsampling*\n",
    "\n",
    "<br> На валидационной выборке по значениям метрик была выбрана лучшая модель - случайный лес с гиперпараметрами *n_estimators=135, max_depth=8*. \n",
    "<br> Была проведена проверка модели на адеватность. Метрики исходной модели значительно выше. Модель адекватна. На тестовой выборке метрика *F1* выбранной модели больше заданного значения *0.59*. *AUC_ROC* больше *0.5*, а значит классификатор правильно угадывает положительные и отрицательные значения целевого признака.\n"
   ]
  }
 ],
 "metadata": {
  "ExecuteTimeLog": [
   {
    "duration": 408,
    "start_time": "2022-11-28T17:08:40.035Z"
   },
   {
    "duration": 170,
    "start_time": "2022-11-28T17:08:41.289Z"
   },
   {
    "duration": 48,
    "start_time": "2022-11-28T17:08:48.689Z"
   },
   {
    "duration": 51,
    "start_time": "2022-11-28T17:09:27.609Z"
   },
   {
    "duration": 4,
    "start_time": "2022-11-28T17:10:06.642Z"
   },
   {
    "duration": 4,
    "start_time": "2022-11-28T17:10:17.787Z"
   },
   {
    "duration": 4,
    "start_time": "2022-11-28T17:10:45.098Z"
   },
   {
    "duration": 4,
    "start_time": "2022-11-28T17:10:53.291Z"
   },
   {
    "duration": 5,
    "start_time": "2022-11-28T17:12:05.404Z"
   },
   {
    "duration": 5,
    "start_time": "2022-11-28T17:12:39.916Z"
   },
   {
    "duration": 60,
    "start_time": "2022-11-28T17:12:49.701Z"
   },
   {
    "duration": 11,
    "start_time": "2022-11-28T17:12:58.605Z"
   },
   {
    "duration": 4,
    "start_time": "2022-11-28T17:13:07.709Z"
   },
   {
    "duration": 4,
    "start_time": "2022-11-28T17:13:13.622Z"
   },
   {
    "duration": 4,
    "start_time": "2022-11-28T17:13:30.085Z"
   },
   {
    "duration": 3,
    "start_time": "2022-11-28T17:13:35.079Z"
   },
   {
    "duration": 4,
    "start_time": "2022-11-28T17:14:29.445Z"
   },
   {
    "duration": 7,
    "start_time": "2022-11-28T17:14:37.917Z"
   },
   {
    "duration": 14,
    "start_time": "2022-11-28T17:17:36.002Z"
   },
   {
    "duration": 15,
    "start_time": "2022-11-28T17:18:25.626Z"
   },
   {
    "duration": 443,
    "start_time": "2022-11-28T19:00:21.902Z"
   },
   {
    "duration": 125,
    "start_time": "2022-11-28T19:00:22.347Z"
   },
   {
    "duration": 21,
    "start_time": "2022-11-28T19:00:22.474Z"
   },
   {
    "duration": 28,
    "start_time": "2022-11-28T19:00:41.683Z"
   },
   {
    "duration": 24,
    "start_time": "2022-11-28T19:01:04.419Z"
   },
   {
    "duration": 21,
    "start_time": "2022-11-28T19:07:47.443Z"
   },
   {
    "duration": 22,
    "start_time": "2022-11-28T19:07:59.603Z"
   },
   {
    "duration": 36,
    "start_time": "2022-11-28T19:08:24.788Z"
   },
   {
    "duration": 38,
    "start_time": "2022-11-28T19:08:53.009Z"
   },
   {
    "duration": 22,
    "start_time": "2022-11-28T19:09:47.356Z"
   },
   {
    "duration": 21,
    "start_time": "2022-11-28T19:09:55.250Z"
   },
   {
    "duration": 9,
    "start_time": "2022-11-28T19:10:42.139Z"
   },
   {
    "duration": 5,
    "start_time": "2022-11-28T19:10:52.602Z"
   },
   {
    "duration": 13,
    "start_time": "2022-11-28T19:11:02.145Z"
   },
   {
    "duration": 4,
    "start_time": "2022-11-28T19:14:35.624Z"
   },
   {
    "duration": 20,
    "start_time": "2022-11-28T19:14:48.415Z"
   },
   {
    "duration": 5,
    "start_time": "2022-11-28T19:14:56.008Z"
   },
   {
    "duration": 206,
    "start_time": "2022-11-28T19:16:33.599Z"
   },
   {
    "duration": 221,
    "start_time": "2022-11-28T19:16:44.938Z"
   },
   {
    "duration": 205,
    "start_time": "2022-11-28T19:17:00.560Z"
   },
   {
    "duration": 4,
    "start_time": "2022-11-28T19:20:15.275Z"
   },
   {
    "duration": 1170,
    "start_time": "2022-11-28T19:21:18.438Z"
   },
   {
    "duration": 55,
    "start_time": "2022-11-28T19:21:19.610Z"
   },
   {
    "duration": 25,
    "start_time": "2022-11-28T19:21:19.666Z"
   },
   {
    "duration": 6,
    "start_time": "2022-11-28T19:21:19.693Z"
   },
   {
    "duration": 33,
    "start_time": "2022-11-28T19:21:19.702Z"
   },
   {
    "duration": 29,
    "start_time": "2022-11-28T19:21:19.738Z"
   },
   {
    "duration": 149,
    "start_time": "2022-11-28T19:21:19.769Z"
   },
   {
    "duration": 13,
    "start_time": "2022-11-28T19:25:22.438Z"
   },
   {
    "duration": 3,
    "start_time": "2022-11-28T19:25:47.007Z"
   },
   {
    "duration": 9,
    "start_time": "2022-11-28T19:25:52.023Z"
   },
   {
    "duration": 464,
    "start_time": "2022-11-28T19:26:49.519Z"
   },
   {
    "duration": 10,
    "start_time": "2022-11-28T19:26:56.807Z"
   },
   {
    "duration": 4,
    "start_time": "2022-11-28T19:28:07.261Z"
   },
   {
    "duration": 5,
    "start_time": "2022-11-28T19:28:21.192Z"
   },
   {
    "duration": 777,
    "start_time": "2022-11-28T19:28:38.295Z"
   },
   {
    "duration": 22,
    "start_time": "2022-11-28T19:29:40.274Z"
   },
   {
    "duration": 17,
    "start_time": "2022-11-28T19:29:47.197Z"
   },
   {
    "duration": 15,
    "start_time": "2022-11-28T19:30:10.322Z"
   },
   {
    "duration": 6,
    "start_time": "2022-11-28T19:32:41.148Z"
   },
   {
    "duration": 10,
    "start_time": "2022-11-28T19:40:35.002Z"
   },
   {
    "duration": 19,
    "start_time": "2022-11-28T19:41:01.876Z"
   },
   {
    "duration": 27,
    "start_time": "2022-11-28T19:41:46.524Z"
   },
   {
    "duration": 5,
    "start_time": "2022-11-28T19:41:52.756Z"
   },
   {
    "duration": 10,
    "start_time": "2022-11-28T19:42:16.595Z"
   },
   {
    "duration": 1209,
    "start_time": "2022-11-28T19:42:21.629Z"
   },
   {
    "duration": 52,
    "start_time": "2022-11-28T19:42:22.840Z"
   },
   {
    "duration": 23,
    "start_time": "2022-11-28T19:42:22.894Z"
   },
   {
    "duration": 5,
    "start_time": "2022-11-28T19:42:22.918Z"
   },
   {
    "duration": 31,
    "start_time": "2022-11-28T19:42:22.926Z"
   },
   {
    "duration": 23,
    "start_time": "2022-11-28T19:42:22.960Z"
   },
   {
    "duration": 292,
    "start_time": "2022-11-28T19:42:22.985Z"
   },
   {
    "duration": 5,
    "start_time": "2022-11-28T19:42:23.280Z"
   },
   {
    "duration": 28,
    "start_time": "2022-11-28T19:42:23.287Z"
   },
   {
    "duration": 26,
    "start_time": "2022-11-28T19:42:23.317Z"
   },
   {
    "duration": 39,
    "start_time": "2022-11-28T19:42:41.114Z"
   },
   {
    "duration": 17,
    "start_time": "2022-11-28T19:42:47.910Z"
   },
   {
    "duration": 44,
    "start_time": "2022-11-28T19:48:25.608Z"
   },
   {
    "duration": 121,
    "start_time": "2022-11-28T19:48:46.903Z"
   },
   {
    "duration": 21,
    "start_time": "2022-11-28T19:49:35.929Z"
   },
   {
    "duration": 20,
    "start_time": "2022-11-28T19:50:36.666Z"
   },
   {
    "duration": 6,
    "start_time": "2022-11-28T19:50:56.698Z"
   },
   {
    "duration": 19,
    "start_time": "2022-11-28T19:51:00.107Z"
   },
   {
    "duration": 8,
    "start_time": "2022-11-28T19:51:00.793Z"
   },
   {
    "duration": 28,
    "start_time": "2022-11-28T19:51:08.313Z"
   },
   {
    "duration": 46,
    "start_time": "2022-11-28T19:51:21.949Z"
   },
   {
    "duration": 14,
    "start_time": "2022-11-28T19:54:29.022Z"
   },
   {
    "duration": 3,
    "start_time": "2022-11-28T19:54:34.735Z"
   },
   {
    "duration": 10,
    "start_time": "2022-11-28T19:54:39.068Z"
   },
   {
    "duration": 11,
    "start_time": "2022-11-28T19:54:46.653Z"
   },
   {
    "duration": 10,
    "start_time": "2022-11-28T20:01:18.937Z"
   },
   {
    "duration": 4,
    "start_time": "2022-11-28T20:01:31.235Z"
   },
   {
    "duration": 12,
    "start_time": "2022-11-28T20:01:34.197Z"
   },
   {
    "duration": 9,
    "start_time": "2022-11-28T20:03:18.502Z"
   },
   {
    "duration": 3,
    "start_time": "2022-11-28T20:03:23.388Z"
   },
   {
    "duration": 6,
    "start_time": "2022-11-28T20:03:28.723Z"
   },
   {
    "duration": 6,
    "start_time": "2022-11-28T20:03:39.515Z"
   },
   {
    "duration": 29,
    "start_time": "2022-11-28T20:03:56.451Z"
   },
   {
    "duration": 19,
    "start_time": "2022-11-28T20:04:06.236Z"
   },
   {
    "duration": 7,
    "start_time": "2022-11-28T20:04:19.060Z"
   },
   {
    "duration": 4,
    "start_time": "2022-11-28T20:04:29.412Z"
   },
   {
    "duration": 1103,
    "start_time": "2022-11-28T20:06:50.817Z"
   },
   {
    "duration": 53,
    "start_time": "2022-11-28T20:06:51.922Z"
   },
   {
    "duration": 25,
    "start_time": "2022-11-28T20:06:51.976Z"
   },
   {
    "duration": 5,
    "start_time": "2022-11-28T20:06:52.004Z"
   },
   {
    "duration": 6,
    "start_time": "2022-11-28T20:06:52.011Z"
   },
   {
    "duration": 35,
    "start_time": "2022-11-28T20:06:52.019Z"
   },
   {
    "duration": 14,
    "start_time": "2022-11-28T20:06:52.057Z"
   },
   {
    "duration": 7,
    "start_time": "2022-11-28T20:06:52.074Z"
   },
   {
    "duration": 28,
    "start_time": "2022-11-28T20:06:52.084Z"
   },
   {
    "duration": 7,
    "start_time": "2022-11-28T20:06:52.138Z"
   },
   {
    "duration": 40,
    "start_time": "2022-11-28T20:06:52.147Z"
   },
   {
    "duration": 10,
    "start_time": "2022-11-28T20:06:52.189Z"
   },
   {
    "duration": 34,
    "start_time": "2022-11-28T20:06:52.201Z"
   },
   {
    "duration": 5,
    "start_time": "2022-11-28T20:06:52.238Z"
   },
   {
    "duration": 9,
    "start_time": "2022-11-28T20:06:52.245Z"
   },
   {
    "duration": 13,
    "start_time": "2022-11-28T20:07:42.457Z"
   },
   {
    "duration": 53,
    "start_time": "2022-11-28T20:07:44.808Z"
   },
   {
    "duration": 8,
    "start_time": "2022-11-28T20:07:45.544Z"
   },
   {
    "duration": 9,
    "start_time": "2022-11-28T20:07:46.821Z"
   },
   {
    "duration": 7,
    "start_time": "2022-11-28T20:07:47.464Z"
   },
   {
    "duration": 7,
    "start_time": "2022-11-28T20:07:48.634Z"
   },
   {
    "duration": 1048,
    "start_time": "2022-11-29T13:37:51.128Z"
   },
   {
    "duration": 91,
    "start_time": "2022-11-29T13:37:52.178Z"
   },
   {
    "duration": 21,
    "start_time": "2022-11-29T13:37:52.270Z"
   },
   {
    "duration": 4,
    "start_time": "2022-11-29T13:37:52.293Z"
   },
   {
    "duration": 11,
    "start_time": "2022-11-29T13:37:52.298Z"
   },
   {
    "duration": 16,
    "start_time": "2022-11-29T13:37:52.310Z"
   },
   {
    "duration": 11,
    "start_time": "2022-11-29T13:37:52.327Z"
   },
   {
    "duration": 5,
    "start_time": "2022-11-29T13:37:52.340Z"
   },
   {
    "duration": 36,
    "start_time": "2022-11-29T13:37:52.347Z"
   },
   {
    "duration": 6,
    "start_time": "2022-11-29T13:37:52.385Z"
   },
   {
    "duration": 38,
    "start_time": "2022-11-29T13:37:52.392Z"
   },
   {
    "duration": 5,
    "start_time": "2022-11-29T13:37:52.431Z"
   },
   {
    "duration": 7,
    "start_time": "2022-11-29T13:37:52.437Z"
   },
   {
    "duration": 31,
    "start_time": "2022-11-29T13:37:52.446Z"
   },
   {
    "duration": 10,
    "start_time": "2022-11-29T13:45:29.658Z"
   },
   {
    "duration": 742,
    "start_time": "2022-11-29T13:45:33.541Z"
   },
   {
    "duration": 3626,
    "start_time": "2022-11-29T13:46:59.139Z"
   },
   {
    "duration": 7370,
    "start_time": "2022-11-29T13:47:18.383Z"
   },
   {
    "duration": 31506,
    "start_time": "2022-11-29T13:51:18.037Z"
   },
   {
    "duration": 31453,
    "start_time": "2022-11-29T13:51:54.185Z"
   },
   {
    "duration": 67738,
    "start_time": "2022-11-29T13:55:35.916Z"
   },
   {
    "duration": 69928,
    "start_time": "2022-11-29T13:57:03.872Z"
   },
   {
    "duration": 147169,
    "start_time": "2022-11-29T14:00:45.762Z"
   },
   {
    "duration": 60732,
    "start_time": "2022-11-29T14:06:44.489Z"
   },
   {
    "duration": 63216,
    "start_time": "2022-11-29T14:10:34.192Z"
   },
   {
    "duration": 5,
    "start_time": "2022-11-29T14:13:17.567Z"
   },
   {
    "duration": 10800,
    "start_time": "2022-11-29T14:13:25.216Z"
   },
   {
    "duration": 53168,
    "start_time": "2022-11-29T14:13:40.948Z"
   },
   {
    "duration": 32932,
    "start_time": "2022-11-29T14:15:21.418Z"
   },
   {
    "duration": 35195,
    "start_time": "2022-11-29T14:19:02.316Z"
   },
   {
    "duration": 453,
    "start_time": "2022-11-29T14:22:05.050Z"
   },
   {
    "duration": 313,
    "start_time": "2022-11-29T14:24:35.695Z"
   },
   {
    "duration": 451,
    "start_time": "2022-11-29T14:24:45.469Z"
   },
   {
    "duration": 33689,
    "start_time": "2022-11-29T14:24:52.087Z"
   },
   {
    "duration": 36812,
    "start_time": "2022-11-29T14:27:06.448Z"
   },
   {
    "duration": 462,
    "start_time": "2022-11-29T14:28:30.340Z"
   },
   {
    "duration": 447,
    "start_time": "2022-11-29T14:28:38.431Z"
   },
   {
    "duration": 455,
    "start_time": "2022-11-29T14:29:06.342Z"
   },
   {
    "duration": 451,
    "start_time": "2022-11-29T14:29:32.744Z"
   },
   {
    "duration": 35903,
    "start_time": "2022-11-29T14:30:11.969Z"
   },
   {
    "duration": 37484,
    "start_time": "2022-11-29T14:33:17.471Z"
   },
   {
    "duration": 526,
    "start_time": "2022-11-29T14:34:10.741Z"
   },
   {
    "duration": 503,
    "start_time": "2022-11-29T14:34:47.026Z"
   },
   {
    "duration": 457,
    "start_time": "2022-11-29T14:34:54.373Z"
   },
   {
    "duration": 430,
    "start_time": "2022-11-29T14:35:56.889Z"
   },
   {
    "duration": 39595,
    "start_time": "2022-11-29T14:36:31.487Z"
   },
   {
    "duration": 11,
    "start_time": "2022-11-29T15:21:17.188Z"
   },
   {
    "duration": 8,
    "start_time": "2022-11-29T15:21:22.386Z"
   },
   {
    "duration": 9,
    "start_time": "2022-11-29T15:23:54.211Z"
   },
   {
    "duration": 7,
    "start_time": "2022-11-29T15:24:02.337Z"
   },
   {
    "duration": 11,
    "start_time": "2022-11-29T15:24:34.051Z"
   },
   {
    "duration": 12,
    "start_time": "2022-11-29T15:29:46.141Z"
   },
   {
    "duration": 12,
    "start_time": "2022-11-29T15:29:55.424Z"
   },
   {
    "duration": 11,
    "start_time": "2022-11-29T15:30:12.392Z"
   },
   {
    "duration": 11,
    "start_time": "2022-11-29T15:30:38.363Z"
   },
   {
    "duration": 11,
    "start_time": "2022-11-29T15:30:45.438Z"
   },
   {
    "duration": 6,
    "start_time": "2022-11-29T15:31:04.228Z"
   },
   {
    "duration": 7,
    "start_time": "2022-11-29T15:36:33.547Z"
   },
   {
    "duration": 25,
    "start_time": "2022-11-29T15:36:51.080Z"
   },
   {
    "duration": 8,
    "start_time": "2022-11-29T15:37:27.311Z"
   },
   {
    "duration": 8,
    "start_time": "2022-11-29T15:37:38.501Z"
   },
   {
    "duration": 9,
    "start_time": "2022-11-29T15:38:33.839Z"
   },
   {
    "duration": 7,
    "start_time": "2022-11-29T15:38:40.937Z"
   },
   {
    "duration": 8,
    "start_time": "2022-11-29T15:39:19.489Z"
   },
   {
    "duration": 9,
    "start_time": "2022-11-29T15:39:49.708Z"
   },
   {
    "duration": 8,
    "start_time": "2022-11-29T15:40:22.208Z"
   },
   {
    "duration": 693,
    "start_time": "2022-11-29T15:41:02.951Z"
   },
   {
    "duration": 145,
    "start_time": "2022-11-29T15:41:22.609Z"
   },
   {
    "duration": 146,
    "start_time": "2022-11-29T15:41:30.187Z"
   },
   {
    "duration": 150,
    "start_time": "2022-11-29T15:41:55.159Z"
   },
   {
    "duration": 133,
    "start_time": "2022-11-29T15:41:59.411Z"
   },
   {
    "duration": 156,
    "start_time": "2022-11-29T15:42:12.886Z"
   },
   {
    "duration": 148,
    "start_time": "2022-11-29T15:42:46.754Z"
   },
   {
    "duration": 758,
    "start_time": "2022-11-29T15:43:07.895Z"
   },
   {
    "duration": 429,
    "start_time": "2022-11-29T15:43:24.531Z"
   },
   {
    "duration": 9,
    "start_time": "2022-11-29T15:43:32.928Z"
   },
   {
    "duration": 10,
    "start_time": "2022-11-29T15:43:40.880Z"
   },
   {
    "duration": 119,
    "start_time": "2022-11-29T15:43:47.668Z"
   },
   {
    "duration": 143,
    "start_time": "2022-11-29T15:43:55.148Z"
   },
   {
    "duration": 127,
    "start_time": "2022-11-29T15:44:05.002Z"
   },
   {
    "duration": 126,
    "start_time": "2022-11-29T15:44:22.724Z"
   },
   {
    "duration": 125,
    "start_time": "2022-11-29T15:45:15.658Z"
   },
   {
    "duration": 116,
    "start_time": "2022-11-29T15:45:34.203Z"
   },
   {
    "duration": 145,
    "start_time": "2022-11-29T15:45:38.586Z"
   },
   {
    "duration": 142,
    "start_time": "2022-11-29T15:45:45.284Z"
   },
   {
    "duration": 207,
    "start_time": "2022-11-29T15:45:54.027Z"
   },
   {
    "duration": 121,
    "start_time": "2022-11-29T15:45:58.509Z"
   },
   {
    "duration": 25,
    "start_time": "2022-11-29T15:46:12.691Z"
   },
   {
    "duration": 17,
    "start_time": "2022-11-29T15:47:08.876Z"
   },
   {
    "duration": 12,
    "start_time": "2022-11-29T15:47:32.383Z"
   },
   {
    "duration": 14,
    "start_time": "2022-11-29T15:47:50.041Z"
   },
   {
    "duration": 8,
    "start_time": "2022-11-29T15:50:07.081Z"
   },
   {
    "duration": 8,
    "start_time": "2022-11-29T15:50:16.486Z"
   },
   {
    "duration": 131,
    "start_time": "2022-11-29T15:50:31.147Z"
   },
   {
    "duration": 8,
    "start_time": "2022-11-29T15:51:32.731Z"
   },
   {
    "duration": 8,
    "start_time": "2022-11-29T19:51:41.846Z"
   },
   {
    "duration": 58,
    "start_time": "2022-11-29T19:51:46.499Z"
   },
   {
    "duration": 1121,
    "start_time": "2022-11-29T19:52:06.143Z"
   },
   {
    "duration": 89,
    "start_time": "2022-11-29T19:52:07.266Z"
   },
   {
    "duration": 22,
    "start_time": "2022-11-29T19:52:07.357Z"
   },
   {
    "duration": 6,
    "start_time": "2022-11-29T19:52:07.381Z"
   },
   {
    "duration": 4,
    "start_time": "2022-11-29T19:52:07.389Z"
   },
   {
    "duration": 17,
    "start_time": "2022-11-29T19:52:07.394Z"
   },
   {
    "duration": 45,
    "start_time": "2022-11-29T19:52:07.412Z"
   },
   {
    "duration": 6,
    "start_time": "2022-11-29T19:52:07.458Z"
   },
   {
    "duration": 20,
    "start_time": "2022-11-29T19:52:07.466Z"
   },
   {
    "duration": 9,
    "start_time": "2022-11-29T19:52:07.488Z"
   },
   {
    "duration": 7,
    "start_time": "2022-11-29T19:52:07.499Z"
   },
   {
    "duration": 49,
    "start_time": "2022-11-29T19:52:07.508Z"
   },
   {
    "duration": 11,
    "start_time": "2022-11-29T19:52:07.559Z"
   },
   {
    "duration": 10,
    "start_time": "2022-11-29T19:52:07.574Z"
   },
   {
    "duration": 9,
    "start_time": "2022-11-29T19:52:07.586Z"
   },
   {
    "duration": 9,
    "start_time": "2022-11-29T19:52:07.597Z"
   },
   {
    "duration": 54,
    "start_time": "2022-11-29T19:52:07.608Z"
   },
   {
    "duration": 584,
    "start_time": "2022-11-29T19:52:07.664Z"
   },
   {
    "duration": 469,
    "start_time": "2022-11-29T19:52:08.254Z"
   },
   {
    "duration": 35298,
    "start_time": "2022-11-29T19:52:08.724Z"
   },
   {
    "duration": 478,
    "start_time": "2022-11-29T19:52:44.024Z"
   },
   {
    "duration": 35217,
    "start_time": "2022-11-29T19:52:44.504Z"
   },
   {
    "duration": 4,
    "start_time": "2022-11-29T19:53:19.723Z"
   },
   {
    "duration": 136,
    "start_time": "2022-11-29T19:53:19.729Z"
   },
   {
    "duration": 0,
    "start_time": "2022-11-29T19:53:19.866Z"
   },
   {
    "duration": 3,
    "start_time": "2022-11-29T19:54:19.636Z"
   },
   {
    "duration": 4,
    "start_time": "2022-11-29T19:54:24.062Z"
   },
   {
    "duration": 12,
    "start_time": "2022-11-29T19:54:24.926Z"
   },
   {
    "duration": 529,
    "start_time": "2022-11-29T19:54:28.298Z"
   },
   {
    "duration": 39341,
    "start_time": "2022-11-29T19:56:08.218Z"
   },
   {
    "duration": 10,
    "start_time": "2022-11-29T19:57:17.984Z"
   },
   {
    "duration": 616,
    "start_time": "2022-11-29T19:57:19.773Z"
   },
   {
    "duration": 43632,
    "start_time": "2022-11-29T19:57:25.565Z"
   },
   {
    "duration": 8,
    "start_time": "2022-11-29T19:58:42.209Z"
   },
   {
    "duration": 39399,
    "start_time": "2022-11-29T19:58:44.612Z"
   },
   {
    "duration": 12,
    "start_time": "2022-11-29T20:03:46.023Z"
   },
   {
    "duration": 622,
    "start_time": "2022-11-29T20:03:47.111Z"
   },
   {
    "duration": 46992,
    "start_time": "2022-11-29T20:04:09.179Z"
   },
   {
    "duration": 15,
    "start_time": "2022-11-29T20:06:29.958Z"
   },
   {
    "duration": 11,
    "start_time": "2022-11-29T20:06:42.024Z"
   },
   {
    "duration": 4,
    "start_time": "2022-11-29T20:09:04.811Z"
   },
   {
    "duration": 10,
    "start_time": "2022-11-29T20:09:05.347Z"
   },
   {
    "duration": 327,
    "start_time": "2022-11-29T20:09:07.111Z"
   },
   {
    "duration": 10,
    "start_time": "2022-11-29T20:09:18.360Z"
   },
   {
    "duration": 12,
    "start_time": "2022-11-29T20:09:36.798Z"
   },
   {
    "duration": 12,
    "start_time": "2022-11-29T20:09:52.126Z"
   },
   {
    "duration": 469,
    "start_time": "2022-11-29T20:09:53.055Z"
   },
   {
    "duration": 11,
    "start_time": "2022-11-29T20:10:00.239Z"
   },
   {
    "duration": 452,
    "start_time": "2022-11-29T20:10:00.780Z"
   },
   {
    "duration": 10,
    "start_time": "2022-11-29T20:10:06.309Z"
   },
   {
    "duration": 353,
    "start_time": "2022-11-29T20:10:06.905Z"
   },
   {
    "duration": 9,
    "start_time": "2022-11-29T20:10:11.878Z"
   },
   {
    "duration": 270,
    "start_time": "2022-11-29T20:10:12.481Z"
   },
   {
    "duration": 3592,
    "start_time": "2022-11-29T20:10:39.904Z"
   },
   {
    "duration": 22678,
    "start_time": "2022-11-29T20:10:57.401Z"
   },
   {
    "duration": 9,
    "start_time": "2022-11-29T20:12:54.097Z"
   },
   {
    "duration": 26391,
    "start_time": "2022-11-29T20:13:05.886Z"
   },
   {
    "duration": 4,
    "start_time": "2022-11-29T20:19:00.054Z"
   },
   {
    "duration": 12,
    "start_time": "2022-11-29T20:20:49.239Z"
   },
   {
    "duration": 9361,
    "start_time": "2022-11-29T20:21:38.297Z"
   },
   {
    "duration": 9168,
    "start_time": "2022-11-29T20:22:01.026Z"
   },
   {
    "duration": 9,
    "start_time": "2022-11-29T20:23:14.912Z"
   },
   {
    "duration": 9266,
    "start_time": "2022-11-29T20:23:16.389Z"
   },
   {
    "duration": 734742,
    "start_time": "2022-11-29T20:24:22.469Z"
   },
   {
    "duration": 739397,
    "start_time": "2022-11-29T20:40:31.411Z"
   },
   {
    "duration": 111,
    "start_time": "2022-11-29T21:01:44.524Z"
   },
   {
    "duration": 11,
    "start_time": "2022-11-29T21:03:13.677Z"
   },
   {
    "duration": 1094,
    "start_time": "2022-11-29T21:03:22.891Z"
   },
   {
    "duration": 50,
    "start_time": "2022-11-29T21:03:23.986Z"
   },
   {
    "duration": 34,
    "start_time": "2022-11-29T21:03:24.038Z"
   },
   {
    "duration": 7,
    "start_time": "2022-11-29T21:03:24.074Z"
   },
   {
    "duration": 6,
    "start_time": "2022-11-29T21:03:24.083Z"
   },
   {
    "duration": 15,
    "start_time": "2022-11-29T21:03:24.091Z"
   },
   {
    "duration": 12,
    "start_time": "2022-11-29T21:03:24.108Z"
   },
   {
    "duration": 7,
    "start_time": "2022-11-29T21:03:24.121Z"
   },
   {
    "duration": 43,
    "start_time": "2022-11-29T21:03:24.130Z"
   },
   {
    "duration": 7,
    "start_time": "2022-11-29T21:03:24.176Z"
   },
   {
    "duration": 6,
    "start_time": "2022-11-29T21:03:24.185Z"
   },
   {
    "duration": 9,
    "start_time": "2022-11-29T21:03:24.192Z"
   },
   {
    "duration": 10,
    "start_time": "2022-11-29T21:03:24.203Z"
   },
   {
    "duration": 47,
    "start_time": "2022-11-29T21:03:24.215Z"
   },
   {
    "duration": 7,
    "start_time": "2022-11-29T21:03:24.265Z"
   },
   {
    "duration": 8,
    "start_time": "2022-11-29T21:03:24.274Z"
   },
   {
    "duration": 8,
    "start_time": "2022-11-29T21:03:24.284Z"
   },
   {
    "duration": 430,
    "start_time": "2022-11-29T21:03:24.293Z"
   },
   {
    "duration": 496,
    "start_time": "2022-11-29T21:03:24.725Z"
   },
   {
    "duration": 35128,
    "start_time": "2022-11-29T21:03:25.223Z"
   },
   {
    "duration": 4,
    "start_time": "2022-11-29T21:04:00.354Z"
   },
   {
    "duration": 107,
    "start_time": "2022-11-29T21:04:00.360Z"
   },
   {
    "duration": 558,
    "start_time": "2022-11-29T21:04:00.469Z"
   },
   {
    "duration": 44236,
    "start_time": "2022-11-29T21:04:01.029Z"
   },
   {
    "duration": 5,
    "start_time": "2022-11-29T21:04:45.266Z"
   },
   {
    "duration": 15,
    "start_time": "2022-11-29T21:04:45.272Z"
   },
   {
    "duration": 375,
    "start_time": "2022-11-29T21:04:45.289Z"
   },
   {
    "duration": 26387,
    "start_time": "2022-11-29T21:04:45.667Z"
   },
   {
    "duration": 103,
    "start_time": "2022-11-29T21:05:12.056Z"
   },
   {
    "duration": 118,
    "start_time": "2022-11-29T21:05:55.913Z"
   },
   {
    "duration": 13,
    "start_time": "2022-11-29T21:06:01.209Z"
   },
   {
    "duration": 14,
    "start_time": "2022-11-29T21:06:15.771Z"
   },
   {
    "duration": 12,
    "start_time": "2022-11-29T21:06:26.490Z"
   },
   {
    "duration": 4,
    "start_time": "2022-11-29T21:06:31.256Z"
   },
   {
    "duration": 53,
    "start_time": "2022-11-29T21:06:32.001Z"
   },
   {
    "duration": 20,
    "start_time": "2022-11-29T21:06:36.341Z"
   },
   {
    "duration": 8,
    "start_time": "2022-11-29T21:06:39.163Z"
   },
   {
    "duration": 9,
    "start_time": "2022-11-29T21:09:09.130Z"
   },
   {
    "duration": 4,
    "start_time": "2022-11-29T21:09:15.114Z"
   },
   {
    "duration": 11,
    "start_time": "2022-11-29T21:09:17.903Z"
   },
   {
    "duration": 9,
    "start_time": "2022-11-29T21:09:39.536Z"
   },
   {
    "duration": 10,
    "start_time": "2022-11-29T21:10:00.426Z"
   },
   {
    "duration": 8,
    "start_time": "2022-11-29T21:10:21.467Z"
   },
   {
    "duration": 10,
    "start_time": "2022-11-29T21:10:31.386Z"
   },
   {
    "duration": 1124,
    "start_time": "2022-11-29T21:10:45.038Z"
   },
   {
    "duration": 54,
    "start_time": "2022-11-29T21:10:46.164Z"
   },
   {
    "duration": 23,
    "start_time": "2022-11-29T21:10:46.219Z"
   },
   {
    "duration": 7,
    "start_time": "2022-11-29T21:10:46.245Z"
   },
   {
    "duration": 16,
    "start_time": "2022-11-29T21:10:46.253Z"
   },
   {
    "duration": 10,
    "start_time": "2022-11-29T21:10:46.270Z"
   },
   {
    "duration": 15,
    "start_time": "2022-11-29T21:10:46.282Z"
   },
   {
    "duration": 11,
    "start_time": "2022-11-29T21:10:46.299Z"
   },
   {
    "duration": 8,
    "start_time": "2022-11-29T21:10:46.312Z"
   },
   {
    "duration": 47,
    "start_time": "2022-11-29T21:10:46.323Z"
   },
   {
    "duration": 9,
    "start_time": "2022-11-29T21:10:46.372Z"
   },
   {
    "duration": 8,
    "start_time": "2022-11-29T21:10:46.382Z"
   },
   {
    "duration": 10,
    "start_time": "2022-11-29T21:10:46.392Z"
   },
   {
    "duration": 10,
    "start_time": "2022-11-29T21:10:46.403Z"
   },
   {
    "duration": 11,
    "start_time": "2022-11-29T21:10:46.415Z"
   },
   {
    "duration": 34,
    "start_time": "2022-11-29T21:10:46.428Z"
   },
   {
    "duration": 9,
    "start_time": "2022-11-29T21:10:46.464Z"
   },
   {
    "duration": 10,
    "start_time": "2022-11-29T21:10:46.475Z"
   },
   {
    "duration": 418,
    "start_time": "2022-11-29T21:10:46.487Z"
   },
   {
    "duration": 140,
    "start_time": "2022-11-29T21:10:46.907Z"
   },
   {
    "duration": 0,
    "start_time": "2022-11-29T21:10:47.048Z"
   },
   {
    "duration": 0,
    "start_time": "2022-11-29T21:10:47.050Z"
   },
   {
    "duration": 0,
    "start_time": "2022-11-29T21:10:47.051Z"
   },
   {
    "duration": 0,
    "start_time": "2022-11-29T21:10:47.052Z"
   },
   {
    "duration": 0,
    "start_time": "2022-11-29T21:10:47.054Z"
   },
   {
    "duration": 0,
    "start_time": "2022-11-29T21:10:47.056Z"
   },
   {
    "duration": 0,
    "start_time": "2022-11-29T21:10:47.057Z"
   },
   {
    "duration": 0,
    "start_time": "2022-11-29T21:10:47.057Z"
   },
   {
    "duration": 0,
    "start_time": "2022-11-29T21:10:47.059Z"
   },
   {
    "duration": 0,
    "start_time": "2022-11-29T21:10:47.060Z"
   },
   {
    "duration": 7,
    "start_time": "2022-11-29T21:11:09.140Z"
   },
   {
    "duration": 52,
    "start_time": "2022-11-29T21:11:53.659Z"
   },
   {
    "duration": 63,
    "start_time": "2022-11-29T21:12:37.939Z"
   },
   {
    "duration": 44,
    "start_time": "2022-11-29T21:12:55.899Z"
   },
   {
    "duration": 9,
    "start_time": "2022-11-29T21:13:31.516Z"
   },
   {
    "duration": 43,
    "start_time": "2022-11-29T21:13:41.545Z"
   },
   {
    "duration": 44,
    "start_time": "2022-11-29T21:14:56.822Z"
   },
   {
    "duration": 64,
    "start_time": "2022-11-29T21:15:05.685Z"
   },
   {
    "duration": 8,
    "start_time": "2022-11-29T21:15:20.861Z"
   },
   {
    "duration": 9,
    "start_time": "2022-11-29T21:15:54.315Z"
   },
   {
    "duration": 8,
    "start_time": "2022-11-29T21:16:04.304Z"
   },
   {
    "duration": 8,
    "start_time": "2022-11-29T21:16:22.973Z"
   },
   {
    "duration": 16,
    "start_time": "2022-11-29T21:16:24.685Z"
   },
   {
    "duration": 7,
    "start_time": "2022-11-29T21:16:29.278Z"
   },
   {
    "duration": 11,
    "start_time": "2022-11-29T21:16:40.892Z"
   },
   {
    "duration": 13,
    "start_time": "2022-11-29T21:19:13.689Z"
   },
   {
    "duration": 14,
    "start_time": "2022-11-29T21:19:27.284Z"
   },
   {
    "duration": 7,
    "start_time": "2022-11-29T21:19:45.292Z"
   },
   {
    "duration": 9,
    "start_time": "2022-11-29T21:20:01.870Z"
   },
   {
    "duration": 10,
    "start_time": "2022-11-29T21:43:55.006Z"
   },
   {
    "duration": 6,
    "start_time": "2022-11-29T21:45:21.952Z"
   },
   {
    "duration": 13,
    "start_time": "2022-11-29T21:45:35.174Z"
   },
   {
    "duration": 14,
    "start_time": "2022-11-29T21:45:52.993Z"
   },
   {
    "duration": 5,
    "start_time": "2022-11-29T21:46:42.563Z"
   },
   {
    "duration": 14,
    "start_time": "2022-11-29T21:46:47.384Z"
   },
   {
    "duration": 5,
    "start_time": "2022-11-29T21:47:10.268Z"
   },
   {
    "duration": 16,
    "start_time": "2022-11-29T21:47:22.816Z"
   },
   {
    "duration": 1107,
    "start_time": "2022-11-29T21:47:38.548Z"
   },
   {
    "duration": 49,
    "start_time": "2022-11-29T21:47:39.657Z"
   },
   {
    "duration": 14,
    "start_time": "2022-11-29T21:47:39.707Z"
   },
   {
    "duration": 9,
    "start_time": "2022-11-29T21:47:39.723Z"
   },
   {
    "duration": 107,
    "start_time": "2022-11-29T21:47:39.733Z"
   },
   {
    "duration": 0,
    "start_time": "2022-11-29T21:47:39.842Z"
   },
   {
    "duration": 0,
    "start_time": "2022-11-29T21:47:39.855Z"
   },
   {
    "duration": 0,
    "start_time": "2022-11-29T21:47:39.856Z"
   },
   {
    "duration": 0,
    "start_time": "2022-11-29T21:47:39.857Z"
   },
   {
    "duration": 0,
    "start_time": "2022-11-29T21:47:39.858Z"
   },
   {
    "duration": 0,
    "start_time": "2022-11-29T21:47:39.859Z"
   },
   {
    "duration": 0,
    "start_time": "2022-11-29T21:47:39.860Z"
   },
   {
    "duration": 0,
    "start_time": "2022-11-29T21:47:39.861Z"
   },
   {
    "duration": 0,
    "start_time": "2022-11-29T21:47:39.862Z"
   },
   {
    "duration": 0,
    "start_time": "2022-11-29T21:47:39.864Z"
   },
   {
    "duration": 0,
    "start_time": "2022-11-29T21:47:39.865Z"
   },
   {
    "duration": 0,
    "start_time": "2022-11-29T21:47:39.866Z"
   },
   {
    "duration": 0,
    "start_time": "2022-11-29T21:47:39.867Z"
   },
   {
    "duration": 0,
    "start_time": "2022-11-29T21:47:39.868Z"
   },
   {
    "duration": 0,
    "start_time": "2022-11-29T21:47:39.869Z"
   },
   {
    "duration": 0,
    "start_time": "2022-11-29T21:47:39.870Z"
   },
   {
    "duration": 0,
    "start_time": "2022-11-29T21:47:39.871Z"
   },
   {
    "duration": 0,
    "start_time": "2022-11-29T21:47:39.872Z"
   },
   {
    "duration": 0,
    "start_time": "2022-11-29T21:47:39.873Z"
   },
   {
    "duration": 0,
    "start_time": "2022-11-29T21:47:39.874Z"
   },
   {
    "duration": 0,
    "start_time": "2022-11-29T21:47:39.875Z"
   },
   {
    "duration": 0,
    "start_time": "2022-11-29T21:47:39.876Z"
   },
   {
    "duration": 0,
    "start_time": "2022-11-29T21:47:39.876Z"
   },
   {
    "duration": 0,
    "start_time": "2022-11-29T21:47:39.877Z"
   },
   {
    "duration": 0,
    "start_time": "2022-11-29T21:47:39.878Z"
   },
   {
    "duration": 5,
    "start_time": "2022-11-29T21:47:58.312Z"
   },
   {
    "duration": 4,
    "start_time": "2022-11-29T21:48:03.876Z"
   },
   {
    "duration": 16,
    "start_time": "2022-11-29T21:48:05.627Z"
   },
   {
    "duration": 7,
    "start_time": "2022-11-29T21:48:37.767Z"
   },
   {
    "duration": 6,
    "start_time": "2022-11-29T21:49:09.706Z"
   },
   {
    "duration": 4,
    "start_time": "2022-11-29T21:49:24.871Z"
   },
   {
    "duration": 49,
    "start_time": "2022-11-29T21:49:46.231Z"
   },
   {
    "duration": 45,
    "start_time": "2022-11-29T21:49:52.655Z"
   },
   {
    "duration": 361,
    "start_time": "2022-11-29T21:50:04.982Z"
   },
   {
    "duration": 1152,
    "start_time": "2022-11-29T21:50:20.614Z"
   },
   {
    "duration": 53,
    "start_time": "2022-11-29T21:50:21.768Z"
   },
   {
    "duration": 14,
    "start_time": "2022-11-29T21:50:21.822Z"
   },
   {
    "duration": 9,
    "start_time": "2022-11-29T21:50:21.838Z"
   },
   {
    "duration": 471,
    "start_time": "2022-11-29T21:50:21.849Z"
   },
   {
    "duration": 0,
    "start_time": "2022-11-29T21:50:22.322Z"
   },
   {
    "duration": 0,
    "start_time": "2022-11-29T21:50:22.323Z"
   },
   {
    "duration": 0,
    "start_time": "2022-11-29T21:50:22.324Z"
   },
   {
    "duration": 0,
    "start_time": "2022-11-29T21:50:22.326Z"
   },
   {
    "duration": 0,
    "start_time": "2022-11-29T21:50:22.327Z"
   },
   {
    "duration": 0,
    "start_time": "2022-11-29T21:50:22.328Z"
   },
   {
    "duration": 0,
    "start_time": "2022-11-29T21:50:22.329Z"
   },
   {
    "duration": 0,
    "start_time": "2022-11-29T21:50:22.330Z"
   },
   {
    "duration": 0,
    "start_time": "2022-11-29T21:50:22.331Z"
   },
   {
    "duration": 0,
    "start_time": "2022-11-29T21:50:22.332Z"
   },
   {
    "duration": 0,
    "start_time": "2022-11-29T21:50:22.333Z"
   },
   {
    "duration": 0,
    "start_time": "2022-11-29T21:50:22.334Z"
   },
   {
    "duration": 0,
    "start_time": "2022-11-29T21:50:22.335Z"
   },
   {
    "duration": 0,
    "start_time": "2022-11-29T21:50:22.336Z"
   },
   {
    "duration": 0,
    "start_time": "2022-11-29T21:50:22.337Z"
   },
   {
    "duration": 0,
    "start_time": "2022-11-29T21:50:22.339Z"
   },
   {
    "duration": 0,
    "start_time": "2022-11-29T21:50:22.340Z"
   },
   {
    "duration": 0,
    "start_time": "2022-11-29T21:50:22.341Z"
   },
   {
    "duration": 0,
    "start_time": "2022-11-29T21:50:22.342Z"
   },
   {
    "duration": 0,
    "start_time": "2022-11-29T21:50:22.343Z"
   },
   {
    "duration": 0,
    "start_time": "2022-11-29T21:50:22.344Z"
   },
   {
    "duration": 0,
    "start_time": "2022-11-29T21:50:22.345Z"
   },
   {
    "duration": 0,
    "start_time": "2022-11-29T21:50:22.346Z"
   },
   {
    "duration": 0,
    "start_time": "2022-11-29T21:50:22.348Z"
   },
   {
    "duration": 0,
    "start_time": "2022-11-29T21:50:22.348Z"
   },
   {
    "duration": 8,
    "start_time": "2022-11-29T21:50:43.642Z"
   },
   {
    "duration": 10,
    "start_time": "2022-11-29T21:50:49.448Z"
   },
   {
    "duration": 9,
    "start_time": "2022-11-29T21:50:58.099Z"
   },
   {
    "duration": 5,
    "start_time": "2022-11-29T21:51:47.541Z"
   },
   {
    "duration": 1136,
    "start_time": "2022-11-29T21:51:53.772Z"
   },
   {
    "duration": 51,
    "start_time": "2022-11-29T21:51:54.909Z"
   },
   {
    "duration": 14,
    "start_time": "2022-11-29T21:51:54.962Z"
   },
   {
    "duration": 30,
    "start_time": "2022-11-29T21:51:54.978Z"
   },
   {
    "duration": 6,
    "start_time": "2022-11-29T21:51:55.010Z"
   },
   {
    "duration": 6,
    "start_time": "2022-11-29T21:51:55.019Z"
   },
   {
    "duration": 30,
    "start_time": "2022-11-29T21:51:55.027Z"
   },
   {
    "duration": 13,
    "start_time": "2022-11-29T21:51:55.059Z"
   },
   {
    "duration": 7,
    "start_time": "2022-11-29T21:51:55.073Z"
   },
   {
    "duration": 21,
    "start_time": "2022-11-29T21:51:55.082Z"
   },
   {
    "duration": 7,
    "start_time": "2022-11-29T21:51:55.105Z"
   },
   {
    "duration": 42,
    "start_time": "2022-11-29T21:51:55.114Z"
   },
   {
    "duration": 6,
    "start_time": "2022-11-29T21:51:55.158Z"
   },
   {
    "duration": 9,
    "start_time": "2022-11-29T21:51:55.166Z"
   },
   {
    "duration": 11,
    "start_time": "2022-11-29T21:51:55.177Z"
   },
   {
    "duration": 8,
    "start_time": "2022-11-29T21:51:55.190Z"
   },
   {
    "duration": 12,
    "start_time": "2022-11-29T21:51:55.199Z"
   },
   {
    "duration": 48,
    "start_time": "2022-11-29T21:51:55.213Z"
   },
   {
    "duration": 430,
    "start_time": "2022-11-29T21:51:55.262Z"
   },
   {
    "duration": 272,
    "start_time": "2022-11-29T21:51:55.694Z"
   },
   {
    "duration": 0,
    "start_time": "2022-11-29T21:51:55.968Z"
   },
   {
    "duration": 0,
    "start_time": "2022-11-29T21:51:55.969Z"
   },
   {
    "duration": 0,
    "start_time": "2022-11-29T21:51:55.970Z"
   },
   {
    "duration": 0,
    "start_time": "2022-11-29T21:51:55.971Z"
   },
   {
    "duration": 0,
    "start_time": "2022-11-29T21:51:55.972Z"
   },
   {
    "duration": 0,
    "start_time": "2022-11-29T21:51:55.973Z"
   },
   {
    "duration": 0,
    "start_time": "2022-11-29T21:51:55.974Z"
   },
   {
    "duration": 0,
    "start_time": "2022-11-29T21:51:55.975Z"
   },
   {
    "duration": 0,
    "start_time": "2022-11-29T21:51:55.976Z"
   },
   {
    "duration": 0,
    "start_time": "2022-11-29T21:51:55.977Z"
   },
   {
    "duration": 7,
    "start_time": "2022-11-29T21:52:11.026Z"
   },
   {
    "duration": 14,
    "start_time": "2022-11-29T21:52:39.901Z"
   },
   {
    "duration": 6,
    "start_time": "2022-11-29T21:52:45.212Z"
   },
   {
    "duration": 1196,
    "start_time": "2022-11-29T21:52:52.916Z"
   },
   {
    "duration": 51,
    "start_time": "2022-11-29T21:52:54.114Z"
   },
   {
    "duration": 13,
    "start_time": "2022-11-29T21:52:54.167Z"
   },
   {
    "duration": 9,
    "start_time": "2022-11-29T21:52:54.181Z"
   },
   {
    "duration": 5,
    "start_time": "2022-11-29T21:52:54.192Z"
   },
   {
    "duration": 4,
    "start_time": "2022-11-29T21:52:54.199Z"
   },
   {
    "duration": 52,
    "start_time": "2022-11-29T21:52:54.204Z"
   },
   {
    "duration": 10,
    "start_time": "2022-11-29T21:52:54.258Z"
   },
   {
    "duration": 6,
    "start_time": "2022-11-29T21:52:54.269Z"
   },
   {
    "duration": 24,
    "start_time": "2022-11-29T21:52:54.277Z"
   },
   {
    "duration": 7,
    "start_time": "2022-11-29T21:52:54.302Z"
   },
   {
    "duration": 7,
    "start_time": "2022-11-29T21:52:54.310Z"
   },
   {
    "duration": 37,
    "start_time": "2022-11-29T21:52:54.319Z"
   },
   {
    "duration": 9,
    "start_time": "2022-11-29T21:52:54.357Z"
   },
   {
    "duration": 11,
    "start_time": "2022-11-29T21:52:54.368Z"
   },
   {
    "duration": 8,
    "start_time": "2022-11-29T21:52:54.380Z"
   },
   {
    "duration": 7,
    "start_time": "2022-11-29T21:52:54.390Z"
   },
   {
    "duration": 7,
    "start_time": "2022-11-29T21:52:54.399Z"
   },
   {
    "duration": 422,
    "start_time": "2022-11-29T21:52:54.408Z"
   },
   {
    "duration": 501,
    "start_time": "2022-11-29T21:52:54.832Z"
   },
   {
    "duration": 36258,
    "start_time": "2022-11-29T21:52:55.335Z"
   },
   {
    "duration": 4,
    "start_time": "2022-11-29T21:53:31.595Z"
   },
   {
    "duration": 24,
    "start_time": "2022-11-29T21:53:31.600Z"
   },
   {
    "duration": 568,
    "start_time": "2022-11-29T21:53:31.626Z"
   },
   {
    "duration": 43264,
    "start_time": "2022-11-29T21:53:32.196Z"
   },
   {
    "duration": 4,
    "start_time": "2022-11-29T21:54:15.462Z"
   },
   {
    "duration": 15,
    "start_time": "2022-11-29T21:54:15.467Z"
   },
   {
    "duration": 352,
    "start_time": "2022-11-29T21:54:15.485Z"
   },
   {
    "duration": 25751,
    "start_time": "2022-11-29T21:54:15.839Z"
   },
   {
    "duration": 98,
    "start_time": "2022-11-29T21:54:41.592Z"
   },
   {
    "duration": 5,
    "start_time": "2022-11-29T21:55:38.982Z"
   },
   {
    "duration": 9,
    "start_time": "2022-11-29T21:55:41.363Z"
   },
   {
    "duration": 332,
    "start_time": "2022-11-29T21:55:41.935Z"
   },
   {
    "duration": 26368,
    "start_time": "2022-11-29T21:55:52.059Z"
   },
   {
    "duration": 337,
    "start_time": "2022-11-29T21:57:16.030Z"
   },
   {
    "duration": 53,
    "start_time": "2022-11-29T21:57:26.776Z"
   },
   {
    "duration": 4,
    "start_time": "2022-11-29T21:59:12.990Z"
   },
   {
    "duration": 9,
    "start_time": "2022-11-29T22:00:20.883Z"
   },
   {
    "duration": 1146,
    "start_time": "2022-11-29T22:00:30.135Z"
   },
   {
    "duration": 52,
    "start_time": "2022-11-29T22:00:31.283Z"
   },
   {
    "duration": 27,
    "start_time": "2022-11-29T22:00:31.336Z"
   },
   {
    "duration": 8,
    "start_time": "2022-11-29T22:00:31.365Z"
   },
   {
    "duration": 12,
    "start_time": "2022-11-29T22:00:31.375Z"
   },
   {
    "duration": 7,
    "start_time": "2022-11-29T22:00:31.388Z"
   },
   {
    "duration": 15,
    "start_time": "2022-11-29T22:00:31.396Z"
   },
   {
    "duration": 10,
    "start_time": "2022-11-29T22:00:31.413Z"
   },
   {
    "duration": 32,
    "start_time": "2022-11-29T22:00:31.424Z"
   },
   {
    "duration": 18,
    "start_time": "2022-11-29T22:00:31.459Z"
   },
   {
    "duration": 7,
    "start_time": "2022-11-29T22:00:31.478Z"
   },
   {
    "duration": 4,
    "start_time": "2022-11-29T22:00:31.487Z"
   },
   {
    "duration": 7,
    "start_time": "2022-11-29T22:00:31.493Z"
   },
   {
    "duration": 7,
    "start_time": "2022-11-29T22:00:31.501Z"
   },
   {
    "duration": 51,
    "start_time": "2022-11-29T22:00:31.509Z"
   },
   {
    "duration": 8,
    "start_time": "2022-11-29T22:00:31.562Z"
   },
   {
    "duration": 8,
    "start_time": "2022-11-29T22:00:31.572Z"
   },
   {
    "duration": 8,
    "start_time": "2022-11-29T22:00:31.582Z"
   },
   {
    "duration": 379,
    "start_time": "2022-11-29T22:00:31.591Z"
   },
   {
    "duration": 495,
    "start_time": "2022-11-29T22:00:31.971Z"
   },
   {
    "duration": 34964,
    "start_time": "2022-11-29T22:00:32.468Z"
   },
   {
    "duration": 4,
    "start_time": "2022-11-29T22:01:07.434Z"
   },
   {
    "duration": 39,
    "start_time": "2022-11-29T22:01:07.439Z"
   },
   {
    "duration": 566,
    "start_time": "2022-11-29T22:01:07.480Z"
   },
   {
    "duration": 43225,
    "start_time": "2022-11-29T22:01:08.048Z"
   },
   {
    "duration": 4,
    "start_time": "2022-11-29T22:01:51.275Z"
   },
   {
    "duration": 13,
    "start_time": "2022-11-29T22:01:51.281Z"
   },
   {
    "duration": 348,
    "start_time": "2022-11-29T22:01:51.297Z"
   },
   {
    "duration": 25839,
    "start_time": "2022-11-29T22:01:51.647Z"
   },
   {
    "duration": 343,
    "start_time": "2022-11-29T22:02:17.487Z"
   },
   {
    "duration": 63,
    "start_time": "2022-11-29T22:02:17.832Z"
   },
   {
    "duration": 4,
    "start_time": "2022-11-29T22:07:43.894Z"
   },
   {
    "duration": 143,
    "start_time": "2022-11-29T22:07:49.255Z"
   },
   {
    "duration": 144,
    "start_time": "2022-11-29T22:32:21.187Z"
   },
   {
    "duration": 145,
    "start_time": "2022-11-29T22:43:03.076Z"
   },
   {
    "duration": 1161,
    "start_time": "2022-11-29T22:45:44.046Z"
   },
   {
    "duration": 49,
    "start_time": "2022-11-29T22:45:45.209Z"
   },
   {
    "duration": 28,
    "start_time": "2022-11-29T22:45:45.260Z"
   },
   {
    "duration": 9,
    "start_time": "2022-11-29T22:45:45.291Z"
   },
   {
    "duration": 389,
    "start_time": "2022-11-29T22:45:45.302Z"
   },
   {
    "duration": 7,
    "start_time": "2022-11-29T22:45:45.693Z"
   },
   {
    "duration": 26,
    "start_time": "2022-11-29T22:45:45.701Z"
   },
   {
    "duration": 17,
    "start_time": "2022-11-29T22:45:45.728Z"
   },
   {
    "duration": 19,
    "start_time": "2022-11-29T22:45:45.746Z"
   },
   {
    "duration": 18,
    "start_time": "2022-11-29T22:45:45.768Z"
   },
   {
    "duration": 7,
    "start_time": "2022-11-29T22:45:45.788Z"
   },
   {
    "duration": 5,
    "start_time": "2022-11-29T22:45:45.796Z"
   },
   {
    "duration": 17,
    "start_time": "2022-11-29T22:45:45.802Z"
   },
   {
    "duration": 42,
    "start_time": "2022-11-29T22:45:45.821Z"
   },
   {
    "duration": 10,
    "start_time": "2022-11-29T22:45:45.864Z"
   },
   {
    "duration": 157,
    "start_time": "2022-11-29T22:45:45.876Z"
   },
   {
    "duration": 21,
    "start_time": "2022-11-29T22:45:46.035Z"
   },
   {
    "duration": 141,
    "start_time": "2022-11-29T22:45:46.058Z"
   },
   {
    "duration": 485,
    "start_time": "2022-11-29T22:45:46.201Z"
   },
   {
    "duration": 34771,
    "start_time": "2022-11-29T22:45:46.688Z"
   },
   {
    "duration": 473,
    "start_time": "2022-11-29T22:46:21.460Z"
   },
   {
    "duration": 35242,
    "start_time": "2022-11-29T22:46:21.934Z"
   },
   {
    "duration": 5,
    "start_time": "2022-11-29T22:46:57.179Z"
   },
   {
    "duration": 33,
    "start_time": "2022-11-29T22:46:57.186Z"
   },
   {
    "duration": 567,
    "start_time": "2022-11-29T22:46:57.221Z"
   },
   {
    "duration": 44364,
    "start_time": "2022-11-29T22:46:57.790Z"
   },
   {
    "duration": 4,
    "start_time": "2022-11-29T22:47:42.156Z"
   },
   {
    "duration": 28,
    "start_time": "2022-11-29T22:47:42.163Z"
   },
   {
    "duration": 351,
    "start_time": "2022-11-29T22:47:42.192Z"
   },
   {
    "duration": 26325,
    "start_time": "2022-11-29T22:47:42.545Z"
   },
   {
    "duration": 354,
    "start_time": "2022-11-29T22:48:08.872Z"
   },
   {
    "duration": 59,
    "start_time": "2022-11-29T22:48:09.228Z"
   },
   {
    "duration": 114,
    "start_time": "2022-11-29T22:53:00.919Z"
   },
   {
    "duration": 4,
    "start_time": "2022-11-29T22:53:21.025Z"
   },
   {
    "duration": 9,
    "start_time": "2022-11-29T22:53:33.420Z"
   },
   {
    "duration": 9,
    "start_time": "2022-11-29T22:55:31.848Z"
   },
   {
    "duration": 366,
    "start_time": "2022-11-29T23:10:13.422Z"
   },
   {
    "duration": 55,
    "start_time": "2022-11-29T23:10:17.367Z"
   },
   {
    "duration": 4,
    "start_time": "2022-11-29T23:19:06.755Z"
   },
   {
    "duration": 13,
    "start_time": "2022-11-29T23:19:08.291Z"
   },
   {
    "duration": 12,
    "start_time": "2022-11-29T23:19:48.746Z"
   },
   {
    "duration": 1078,
    "start_time": "2022-11-29T23:20:17.180Z"
   },
   {
    "duration": 51,
    "start_time": "2022-11-29T23:20:18.260Z"
   },
   {
    "duration": 28,
    "start_time": "2022-11-29T23:20:18.313Z"
   },
   {
    "duration": 8,
    "start_time": "2022-11-29T23:20:18.343Z"
   },
   {
    "duration": 381,
    "start_time": "2022-11-29T23:20:18.353Z"
   },
   {
    "duration": 8,
    "start_time": "2022-11-29T23:20:18.737Z"
   },
   {
    "duration": 29,
    "start_time": "2022-11-29T23:20:18.755Z"
   },
   {
    "duration": 17,
    "start_time": "2022-11-29T23:20:18.786Z"
   },
   {
    "duration": 14,
    "start_time": "2022-11-29T23:20:18.805Z"
   },
   {
    "duration": 23,
    "start_time": "2022-11-29T23:20:18.822Z"
   },
   {
    "duration": 14,
    "start_time": "2022-11-29T23:20:18.846Z"
   },
   {
    "duration": 6,
    "start_time": "2022-11-29T23:20:18.862Z"
   },
   {
    "duration": 9,
    "start_time": "2022-11-29T23:20:18.869Z"
   },
   {
    "duration": 8,
    "start_time": "2022-11-29T23:20:18.880Z"
   },
   {
    "duration": 12,
    "start_time": "2022-11-29T23:20:18.889Z"
   },
   {
    "duration": 193,
    "start_time": "2022-11-29T23:20:18.903Z"
   },
   {
    "duration": 10,
    "start_time": "2022-11-29T23:20:19.098Z"
   },
   {
    "duration": 171,
    "start_time": "2022-11-29T23:20:19.110Z"
   },
   {
    "duration": 496,
    "start_time": "2022-11-29T23:20:19.283Z"
   },
   {
    "duration": 34644,
    "start_time": "2022-11-29T23:20:19.781Z"
   },
   {
    "duration": 481,
    "start_time": "2022-11-29T23:20:54.427Z"
   },
   {
    "duration": 34482,
    "start_time": "2022-11-29T23:20:54.909Z"
   },
   {
    "duration": 5,
    "start_time": "2022-11-29T23:21:29.393Z"
   },
   {
    "duration": 13,
    "start_time": "2022-11-29T23:21:29.400Z"
   },
   {
    "duration": 550,
    "start_time": "2022-11-29T23:21:29.415Z"
   },
   {
    "duration": 42449,
    "start_time": "2022-11-29T23:21:29.967Z"
   },
   {
    "duration": 5,
    "start_time": "2022-11-29T23:22:12.418Z"
   },
   {
    "duration": 15,
    "start_time": "2022-11-29T23:22:12.426Z"
   },
   {
    "duration": 330,
    "start_time": "2022-11-29T23:22:12.442Z"
   },
   {
    "duration": 25671,
    "start_time": "2022-11-29T23:22:12.774Z"
   },
   {
    "duration": 10,
    "start_time": "2022-11-29T23:22:38.446Z"
   },
   {
    "duration": 115,
    "start_time": "2022-11-29T23:22:38.457Z"
   },
   {
    "duration": 0,
    "start_time": "2022-11-29T23:22:38.574Z"
   },
   {
    "duration": 0,
    "start_time": "2022-11-29T23:22:38.576Z"
   },
   {
    "duration": 8625,
    "start_time": "2022-11-29T23:25:16.035Z"
   },
   {
    "duration": 10556,
    "start_time": "2022-11-29T23:26:26.348Z"
   },
   {
    "duration": 853174,
    "start_time": "2022-11-29T23:28:41.918Z"
   },
   {
    "duration": 95,
    "start_time": "2022-11-29T23:50:04.173Z"
   },
   {
    "duration": 25562,
    "start_time": "2022-11-29T23:51:03.533Z"
   },
   {
    "duration": 91,
    "start_time": "2022-11-29T23:51:37.176Z"
   },
   {
    "duration": 329,
    "start_time": "2022-11-29T23:53:03.307Z"
   },
   {
    "duration": 239,
    "start_time": "2022-11-29T23:53:17.116Z"
   },
   {
    "duration": 36,
    "start_time": "2022-11-29T23:53:24.910Z"
   },
   {
    "duration": 96379,
    "start_time": "2022-11-29T23:54:29.141Z"
   },
   {
    "duration": 23298,
    "start_time": "2022-11-29T23:57:08.547Z"
   },
   {
    "duration": 334,
    "start_time": "2022-11-29T23:59:18.510Z"
   },
   {
    "duration": 52,
    "start_time": "2022-11-29T23:59:20.592Z"
   },
   {
    "duration": 291,
    "start_time": "2022-11-29T23:59:42.067Z"
   },
   {
    "duration": 307,
    "start_time": "2022-11-29T23:59:46.705Z"
   },
   {
    "duration": 339,
    "start_time": "2022-11-29T23:59:53.609Z"
   },
   {
    "duration": 45,
    "start_time": "2022-11-29T23:59:56.849Z"
   },
   {
    "duration": 401,
    "start_time": "2022-11-30T00:00:12.102Z"
   },
   {
    "duration": 312,
    "start_time": "2022-11-30T00:00:18.358Z"
   },
   {
    "duration": 234,
    "start_time": "2022-11-30T00:00:22.627Z"
   },
   {
    "duration": 316,
    "start_time": "2022-11-30T00:00:27.003Z"
   },
   {
    "duration": 353,
    "start_time": "2022-11-30T00:00:31.847Z"
   },
   {
    "duration": 374,
    "start_time": "2022-11-30T00:00:37.216Z"
   },
   {
    "duration": 316,
    "start_time": "2022-11-30T00:00:41.526Z"
   },
   {
    "duration": 301,
    "start_time": "2022-11-30T00:00:46.348Z"
   },
   {
    "duration": 258,
    "start_time": "2022-11-30T00:00:51.675Z"
   },
   {
    "duration": 304,
    "start_time": "2022-11-30T00:00:55.991Z"
   },
   {
    "duration": 377,
    "start_time": "2022-11-30T00:01:00.614Z"
   },
   {
    "duration": 329,
    "start_time": "2022-11-30T00:01:06.694Z"
   },
   {
    "duration": 181,
    "start_time": "2022-11-30T00:01:33.790Z"
   },
   {
    "duration": 344,
    "start_time": "2022-11-30T00:01:44.158Z"
   },
   {
    "duration": 37773,
    "start_time": "2022-11-30T00:02:16.676Z"
   },
   {
    "duration": 260,
    "start_time": "2022-11-30T00:03:52.906Z"
   },
   {
    "duration": 29816,
    "start_time": "2022-11-30T00:04:24.846Z"
   },
   {
    "duration": 305,
    "start_time": "2022-11-30T00:05:05.960Z"
   },
   {
    "duration": 368,
    "start_time": "2022-11-30T00:05:11.465Z"
   },
   {
    "duration": 451,
    "start_time": "2022-11-30T00:05:15.503Z"
   },
   {
    "duration": 559,
    "start_time": "2022-11-30T00:05:19.510Z"
   },
   {
    "duration": 1192,
    "start_time": "2022-11-30T00:05:49.559Z"
   },
   {
    "duration": 52,
    "start_time": "2022-11-30T00:05:50.753Z"
   },
   {
    "duration": 28,
    "start_time": "2022-11-30T00:05:50.807Z"
   },
   {
    "duration": 8,
    "start_time": "2022-11-30T00:05:50.838Z"
   },
   {
    "duration": 386,
    "start_time": "2022-11-30T00:05:50.848Z"
   },
   {
    "duration": 20,
    "start_time": "2022-11-30T00:05:51.235Z"
   },
   {
    "duration": 28,
    "start_time": "2022-11-30T00:05:51.256Z"
   },
   {
    "duration": 35,
    "start_time": "2022-11-30T00:05:51.285Z"
   },
   {
    "duration": 16,
    "start_time": "2022-11-30T00:05:51.322Z"
   },
   {
    "duration": 31,
    "start_time": "2022-11-30T00:05:51.340Z"
   },
   {
    "duration": 32,
    "start_time": "2022-11-30T00:05:51.372Z"
   },
   {
    "duration": 17,
    "start_time": "2022-11-30T00:05:51.406Z"
   },
   {
    "duration": 29,
    "start_time": "2022-11-30T00:05:51.425Z"
   },
   {
    "duration": 21,
    "start_time": "2022-11-30T00:05:51.455Z"
   },
   {
    "duration": 28,
    "start_time": "2022-11-30T00:05:51.478Z"
   },
   {
    "duration": 153,
    "start_time": "2022-11-30T00:05:51.507Z"
   },
   {
    "duration": 9,
    "start_time": "2022-11-30T00:05:51.661Z"
   },
   {
    "duration": 160,
    "start_time": "2022-11-30T00:05:51.672Z"
   },
   {
    "duration": 479,
    "start_time": "2022-11-30T00:05:51.834Z"
   },
   {
    "duration": 35828,
    "start_time": "2022-11-30T00:05:52.315Z"
   },
   {
    "duration": 489,
    "start_time": "2022-11-30T00:06:28.145Z"
   },
   {
    "duration": 34780,
    "start_time": "2022-11-30T00:06:28.635Z"
   },
   {
    "duration": 4,
    "start_time": "2022-11-30T00:07:03.417Z"
   },
   {
    "duration": 38,
    "start_time": "2022-11-30T00:07:03.422Z"
   },
   {
    "duration": 545,
    "start_time": "2022-11-30T00:07:03.462Z"
   },
   {
    "duration": 30091,
    "start_time": "2022-11-30T00:07:04.009Z"
   },
   {
    "duration": 5,
    "start_time": "2022-11-30T00:07:34.102Z"
   },
   {
    "duration": 23,
    "start_time": "2022-11-30T00:07:34.111Z"
   },
   {
    "duration": 341,
    "start_time": "2022-11-30T00:07:34.135Z"
   },
   {
    "duration": 23312,
    "start_time": "2022-11-30T00:07:34.478Z"
   },
   {
    "duration": 218,
    "start_time": "2022-11-30T00:07:57.791Z"
   },
   {
    "duration": 519,
    "start_time": "2022-11-30T00:07:58.011Z"
   },
   {
    "duration": 518,
    "start_time": "2022-11-30T00:09:12.489Z"
   },
   {
    "duration": 686,
    "start_time": "2022-11-30T00:09:42.254Z"
   },
   {
    "duration": 512,
    "start_time": "2022-11-30T00:09:47.439Z"
   },
   {
    "duration": 738,
    "start_time": "2022-11-30T00:09:52.336Z"
   },
   {
    "duration": 683,
    "start_time": "2022-11-30T00:09:58.324Z"
   },
   {
    "duration": 756,
    "start_time": "2022-11-30T00:10:07.746Z"
   },
   {
    "duration": 24956,
    "start_time": "2022-11-30T00:10:44.350Z"
   },
   {
    "duration": 51363,
    "start_time": "2022-11-30T00:11:32.220Z"
   },
   {
    "duration": 29984,
    "start_time": "2022-11-30T00:13:00.515Z"
   },
   {
    "duration": 42167,
    "start_time": "2022-11-30T00:13:36.850Z"
   },
   {
    "duration": 720,
    "start_time": "2022-11-30T00:14:44.670Z"
   },
   {
    "duration": 24514,
    "start_time": "2022-11-30T00:14:58.425Z"
   },
   {
    "duration": 1043,
    "start_time": "2022-11-30T00:16:26.293Z"
   },
   {
    "duration": 49,
    "start_time": "2022-11-30T00:16:27.338Z"
   },
   {
    "duration": 28,
    "start_time": "2022-11-30T00:16:27.389Z"
   },
   {
    "duration": 8,
    "start_time": "2022-11-30T00:16:27.419Z"
   },
   {
    "duration": 368,
    "start_time": "2022-11-30T00:16:27.429Z"
   },
   {
    "duration": 6,
    "start_time": "2022-11-30T00:16:27.799Z"
   },
   {
    "duration": 11,
    "start_time": "2022-11-30T00:16:27.807Z"
   },
   {
    "duration": 16,
    "start_time": "2022-11-30T00:16:27.820Z"
   },
   {
    "duration": 23,
    "start_time": "2022-11-30T00:16:27.838Z"
   },
   {
    "duration": 18,
    "start_time": "2022-11-30T00:16:27.863Z"
   },
   {
    "duration": 14,
    "start_time": "2022-11-30T00:16:27.882Z"
   },
   {
    "duration": 14,
    "start_time": "2022-11-30T00:16:27.897Z"
   },
   {
    "duration": 8,
    "start_time": "2022-11-30T00:16:27.912Z"
   },
   {
    "duration": 12,
    "start_time": "2022-11-30T00:16:27.922Z"
   },
   {
    "duration": 23,
    "start_time": "2022-11-30T00:16:27.936Z"
   },
   {
    "duration": 143,
    "start_time": "2022-11-30T00:16:27.960Z"
   },
   {
    "duration": 8,
    "start_time": "2022-11-30T00:16:28.105Z"
   },
   {
    "duration": 145,
    "start_time": "2022-11-30T00:16:28.114Z"
   },
   {
    "duration": 465,
    "start_time": "2022-11-30T00:16:28.261Z"
   },
   {
    "duration": 34205,
    "start_time": "2022-11-30T00:16:28.727Z"
   },
   {
    "duration": 450,
    "start_time": "2022-11-30T00:17:02.933Z"
   },
   {
    "duration": 34309,
    "start_time": "2022-11-30T00:17:03.385Z"
   },
   {
    "duration": 3,
    "start_time": "2022-11-30T00:17:37.696Z"
   },
   {
    "duration": 13,
    "start_time": "2022-11-30T00:17:37.701Z"
   },
   {
    "duration": 535,
    "start_time": "2022-11-30T00:17:37.716Z"
   },
   {
    "duration": 41637,
    "start_time": "2022-11-30T00:17:38.252Z"
   },
   {
    "duration": 5,
    "start_time": "2022-11-30T00:18:19.891Z"
   },
   {
    "duration": 29,
    "start_time": "2022-11-30T00:18:19.901Z"
   },
   {
    "duration": 319,
    "start_time": "2022-11-30T00:18:19.931Z"
   },
   {
    "duration": 24028,
    "start_time": "2022-11-30T00:18:20.252Z"
   },
   {
    "duration": 241,
    "start_time": "2022-11-30T00:18:44.282Z"
   },
   {
    "duration": 708,
    "start_time": "2022-11-30T00:18:44.525Z"
   },
   {
    "duration": 691,
    "start_time": "2022-11-30T00:18:47.582Z"
   },
   {
    "duration": 105,
    "start_time": "2022-11-30T00:19:51.142Z"
   },
   {
    "duration": 18,
    "start_time": "2022-11-30T00:20:19.835Z"
   },
   {
    "duration": 218,
    "start_time": "2022-11-30T00:20:43.596Z"
   },
   {
    "duration": 5,
    "start_time": "2022-11-30T00:20:51.296Z"
   },
   {
    "duration": 51,
    "start_time": "2022-12-01T20:09:18.158Z"
   },
   {
    "duration": 1157,
    "start_time": "2022-12-01T20:09:23.676Z"
   },
   {
    "duration": 170,
    "start_time": "2022-12-01T20:09:24.835Z"
   },
   {
    "duration": 32,
    "start_time": "2022-12-01T20:09:25.007Z"
   },
   {
    "duration": 12,
    "start_time": "2022-12-01T20:09:25.041Z"
   },
   {
    "duration": 682,
    "start_time": "2022-12-01T20:09:25.055Z"
   },
   {
    "duration": 8,
    "start_time": "2022-12-01T20:09:25.739Z"
   },
   {
    "duration": 17,
    "start_time": "2022-12-01T20:09:25.749Z"
   },
   {
    "duration": 52,
    "start_time": "2022-12-01T20:09:25.769Z"
   },
   {
    "duration": 34,
    "start_time": "2022-12-01T20:09:25.824Z"
   },
   {
    "duration": 49,
    "start_time": "2022-12-01T20:09:25.862Z"
   },
   {
    "duration": 12,
    "start_time": "2022-12-01T20:09:25.913Z"
   },
   {
    "duration": 24,
    "start_time": "2022-12-01T20:09:25.927Z"
   },
   {
    "duration": 12,
    "start_time": "2022-12-01T20:09:25.954Z"
   },
   {
    "duration": 12,
    "start_time": "2022-12-01T20:09:25.968Z"
   },
   {
    "duration": 23,
    "start_time": "2022-12-01T20:09:25.981Z"
   },
   {
    "duration": 175,
    "start_time": "2022-12-01T20:09:26.006Z"
   },
   {
    "duration": 12,
    "start_time": "2022-12-01T20:09:26.183Z"
   },
   {
    "duration": 180,
    "start_time": "2022-12-01T20:09:26.197Z"
   },
   {
    "duration": 532,
    "start_time": "2022-12-01T20:09:26.380Z"
   },
   {
    "duration": 35266,
    "start_time": "2022-12-01T20:09:26.914Z"
   },
   {
    "duration": 507,
    "start_time": "2022-12-01T20:10:02.182Z"
   },
   {
    "duration": 36841,
    "start_time": "2022-12-01T20:10:02.691Z"
   },
   {
    "duration": 4,
    "start_time": "2022-12-01T20:10:39.538Z"
   },
   {
    "duration": 20,
    "start_time": "2022-12-01T20:10:39.544Z"
   },
   {
    "duration": 533,
    "start_time": "2022-12-01T20:10:39.565Z"
   },
   {
    "duration": 42030,
    "start_time": "2022-12-01T20:10:40.100Z"
   },
   {
    "duration": 7,
    "start_time": "2022-12-01T20:11:22.131Z"
   },
   {
    "duration": 14,
    "start_time": "2022-12-01T20:11:22.140Z"
   },
   {
    "duration": 330,
    "start_time": "2022-12-01T20:11:22.156Z"
   },
   {
    "duration": 24377,
    "start_time": "2022-12-01T20:11:22.488Z"
   },
   {
    "duration": 262,
    "start_time": "2022-12-01T20:11:46.867Z"
   },
   {
    "duration": 752,
    "start_time": "2022-12-01T20:11:47.132Z"
   },
   {
    "duration": 428,
    "start_time": "2022-12-01T20:12:44.724Z"
   },
   {
    "duration": 8,
    "start_time": "2022-12-01T20:14:18.924Z"
   },
   {
    "duration": 763,
    "start_time": "2022-12-01T20:17:50.176Z"
   },
   {
    "duration": 337,
    "start_time": "2022-12-01T20:32:19.060Z"
   },
   {
    "duration": 11,
    "start_time": "2022-12-01T20:32:37.654Z"
   },
   {
    "duration": 10,
    "start_time": "2022-12-01T20:32:57.652Z"
   },
   {
    "duration": 12,
    "start_time": "2022-12-01T20:33:11.238Z"
   },
   {
    "duration": 5,
    "start_time": "2022-12-01T20:33:25.621Z"
   },
   {
    "duration": 0,
    "start_time": "2022-12-01T20:34:16.132Z"
   },
   {
    "duration": 0,
    "start_time": "2022-12-01T20:34:59.381Z"
   },
   {
    "duration": 11,
    "start_time": "2022-12-01T20:37:19.494Z"
   },
   {
    "duration": 13,
    "start_time": "2022-12-01T20:37:25.781Z"
   },
   {
    "duration": 1105,
    "start_time": "2022-12-01T20:50:45.621Z"
   },
   {
    "duration": 48,
    "start_time": "2022-12-01T20:50:46.728Z"
   },
   {
    "duration": 26,
    "start_time": "2022-12-01T20:50:46.778Z"
   },
   {
    "duration": 8,
    "start_time": "2022-12-01T20:50:46.805Z"
   },
   {
    "duration": 397,
    "start_time": "2022-12-01T20:50:46.815Z"
   },
   {
    "duration": 6,
    "start_time": "2022-12-01T20:50:47.214Z"
   },
   {
    "duration": 42,
    "start_time": "2022-12-01T20:50:47.221Z"
   },
   {
    "duration": 38,
    "start_time": "2022-12-01T20:50:47.264Z"
   },
   {
    "duration": 17,
    "start_time": "2022-12-01T20:50:47.304Z"
   },
   {
    "duration": 28,
    "start_time": "2022-12-01T20:50:47.324Z"
   },
   {
    "duration": 6,
    "start_time": "2022-12-01T20:50:47.354Z"
   },
   {
    "duration": 27,
    "start_time": "2022-12-01T20:50:47.362Z"
   },
   {
    "duration": 28,
    "start_time": "2022-12-01T20:50:47.390Z"
   },
   {
    "duration": 8,
    "start_time": "2022-12-01T20:50:47.420Z"
   },
   {
    "duration": 17,
    "start_time": "2022-12-01T20:50:47.429Z"
   },
   {
    "duration": 142,
    "start_time": "2022-12-01T20:50:47.448Z"
   },
   {
    "duration": 8,
    "start_time": "2022-12-01T20:50:47.592Z"
   },
   {
    "duration": 148,
    "start_time": "2022-12-01T20:50:47.601Z"
   },
   {
    "duration": 472,
    "start_time": "2022-12-01T20:50:47.750Z"
   },
   {
    "duration": 34422,
    "start_time": "2022-12-01T20:50:48.223Z"
   },
   {
    "duration": 515,
    "start_time": "2022-12-01T20:51:22.647Z"
   },
   {
    "duration": 33793,
    "start_time": "2022-12-01T20:51:23.164Z"
   },
   {
    "duration": 4,
    "start_time": "2022-12-01T20:51:56.958Z"
   },
   {
    "duration": 21,
    "start_time": "2022-12-01T20:51:56.964Z"
   },
   {
    "duration": 544,
    "start_time": "2022-12-01T20:51:56.986Z"
   },
   {
    "duration": 7,
    "start_time": "2022-12-01T20:51:57.531Z"
   },
   {
    "duration": 0,
    "start_time": "2022-12-01T20:51:57.539Z"
   },
   {
    "duration": 0,
    "start_time": "2022-12-01T20:51:57.541Z"
   },
   {
    "duration": 0,
    "start_time": "2022-12-01T20:51:57.542Z"
   },
   {
    "duration": 0,
    "start_time": "2022-12-01T20:51:57.542Z"
   },
   {
    "duration": 0,
    "start_time": "2022-12-01T20:51:57.544Z"
   },
   {
    "duration": 0,
    "start_time": "2022-12-01T20:51:57.545Z"
   },
   {
    "duration": 1124,
    "start_time": "2022-12-01T20:58:54.768Z"
   },
   {
    "duration": 48,
    "start_time": "2022-12-01T20:58:55.894Z"
   },
   {
    "duration": 24,
    "start_time": "2022-12-01T20:58:55.944Z"
   },
   {
    "duration": 7,
    "start_time": "2022-12-01T20:58:55.970Z"
   },
   {
    "duration": 416,
    "start_time": "2022-12-01T20:58:55.979Z"
   },
   {
    "duration": 7,
    "start_time": "2022-12-01T20:58:56.397Z"
   },
   {
    "duration": 48,
    "start_time": "2022-12-01T20:58:56.405Z"
   },
   {
    "duration": 16,
    "start_time": "2022-12-01T20:58:56.454Z"
   },
   {
    "duration": 13,
    "start_time": "2022-12-01T20:58:56.472Z"
   },
   {
    "duration": 19,
    "start_time": "2022-12-01T20:58:56.486Z"
   },
   {
    "duration": 7,
    "start_time": "2022-12-01T20:58:56.507Z"
   },
   {
    "duration": 25,
    "start_time": "2022-12-01T20:58:56.516Z"
   },
   {
    "duration": 7,
    "start_time": "2022-12-01T20:58:56.543Z"
   },
   {
    "duration": 6,
    "start_time": "2022-12-01T20:58:56.553Z"
   },
   {
    "duration": 10,
    "start_time": "2022-12-01T20:58:56.561Z"
   },
   {
    "duration": 170,
    "start_time": "2022-12-01T20:58:56.572Z"
   },
   {
    "duration": 8,
    "start_time": "2022-12-01T20:58:56.744Z"
   },
   {
    "duration": 150,
    "start_time": "2022-12-01T20:58:56.754Z"
   },
   {
    "duration": 458,
    "start_time": "2022-12-01T20:58:56.906Z"
   },
   {
    "duration": 33421,
    "start_time": "2022-12-01T20:58:57.365Z"
   },
   {
    "duration": 460,
    "start_time": "2022-12-01T20:59:30.788Z"
   },
   {
    "duration": 33102,
    "start_time": "2022-12-01T20:59:31.250Z"
   },
   {
    "duration": 4,
    "start_time": "2022-12-01T21:00:04.354Z"
   },
   {
    "duration": 38,
    "start_time": "2022-12-01T21:00:04.359Z"
   },
   {
    "duration": 521,
    "start_time": "2022-12-01T21:00:04.399Z"
   },
   {
    "duration": 41462,
    "start_time": "2022-12-01T21:00:04.922Z"
   },
   {
    "duration": 4,
    "start_time": "2022-12-01T21:00:46.386Z"
   },
   {
    "duration": 13,
    "start_time": "2022-12-01T21:00:46.391Z"
   },
   {
    "duration": 34463,
    "start_time": "2022-12-01T21:00:46.405Z"
   },
   {
    "duration": 0,
    "start_time": "2022-12-01T21:01:20.869Z"
   },
   {
    "duration": 0,
    "start_time": "2022-12-01T21:01:20.871Z"
   },
   {
    "duration": 0,
    "start_time": "2022-12-01T21:01:20.872Z"
   },
   {
    "duration": 2884,
    "start_time": "2022-12-02T12:13:41.904Z"
   },
   {
    "duration": 176,
    "start_time": "2022-12-02T12:13:44.790Z"
   },
   {
    "duration": 28,
    "start_time": "2022-12-02T12:13:44.968Z"
   },
   {
    "duration": 8,
    "start_time": "2022-12-02T12:13:44.998Z"
   },
   {
    "duration": 455,
    "start_time": "2022-12-02T12:13:45.009Z"
   },
   {
    "duration": 7,
    "start_time": "2022-12-02T12:13:45.465Z"
   },
   {
    "duration": 11,
    "start_time": "2022-12-02T12:13:45.474Z"
   },
   {
    "duration": 18,
    "start_time": "2022-12-02T12:13:45.486Z"
   },
   {
    "duration": 36,
    "start_time": "2022-12-02T12:13:45.506Z"
   },
   {
    "duration": 33,
    "start_time": "2022-12-02T12:13:45.544Z"
   },
   {
    "duration": 11,
    "start_time": "2022-12-02T12:13:45.580Z"
   },
   {
    "duration": 7,
    "start_time": "2022-12-02T12:13:45.594Z"
   },
   {
    "duration": 40,
    "start_time": "2022-12-02T12:13:45.603Z"
   },
   {
    "duration": 7,
    "start_time": "2022-12-02T12:13:45.647Z"
   },
   {
    "duration": 10,
    "start_time": "2022-12-02T12:13:45.656Z"
   },
   {
    "duration": 207,
    "start_time": "2022-12-02T12:13:45.668Z"
   },
   {
    "duration": 9,
    "start_time": "2022-12-02T12:13:45.877Z"
   },
   {
    "duration": 162,
    "start_time": "2022-12-02T12:13:45.888Z"
   },
   {
    "duration": 506,
    "start_time": "2022-12-02T12:13:46.052Z"
   },
   {
    "duration": 39336,
    "start_time": "2022-12-02T12:13:46.559Z"
   },
   {
    "duration": 529,
    "start_time": "2022-12-02T12:14:25.897Z"
   },
   {
    "duration": 38192,
    "start_time": "2022-12-02T12:14:26.428Z"
   },
   {
    "duration": 4,
    "start_time": "2022-12-02T12:15:04.622Z"
   },
   {
    "duration": 27,
    "start_time": "2022-12-02T12:15:04.627Z"
   },
   {
    "duration": 574,
    "start_time": "2022-12-02T12:15:04.656Z"
   },
   {
    "duration": 46740,
    "start_time": "2022-12-02T12:15:05.232Z"
   },
   {
    "duration": 4,
    "start_time": "2022-12-02T12:15:51.974Z"
   },
   {
    "duration": 22,
    "start_time": "2022-12-02T12:15:51.979Z"
   },
   {
    "duration": 7,
    "start_time": "2022-12-02T12:18:55.184Z"
   },
   {
    "duration": 27242,
    "start_time": "2022-12-02T12:19:00.952Z"
   },
   {
    "duration": 917,
    "start_time": "2022-12-02T12:19:28.196Z"
   },
   {
    "duration": 64,
    "start_time": "2022-12-02T12:19:29.115Z"
   },
   {
    "duration": 53,
    "start_time": "2022-12-02T18:29:18.926Z"
   },
   {
    "duration": 4199,
    "start_time": "2022-12-02T18:29:26.003Z"
   },
   {
    "duration": 105,
    "start_time": "2022-12-02T18:29:30.204Z"
   },
   {
    "duration": 30,
    "start_time": "2022-12-02T18:29:33.987Z"
   },
   {
    "duration": 8,
    "start_time": "2022-12-02T18:29:35.430Z"
   },
   {
    "duration": 572,
    "start_time": "2022-12-02T18:29:36.368Z"
   },
   {
    "duration": 7,
    "start_time": "2022-12-02T18:29:40.950Z"
   },
   {
    "duration": 80,
    "start_time": "2022-12-02T18:29:42.188Z"
   },
   {
    "duration": 43,
    "start_time": "2022-12-02T18:30:05.278Z"
   },
   {
    "duration": 11,
    "start_time": "2022-12-02T18:31:56.863Z"
   },
   {
    "duration": 8,
    "start_time": "2022-12-02T18:32:38.070Z"
   },
   {
    "duration": 12,
    "start_time": "2022-12-02T18:32:46.555Z"
   },
   {
    "duration": 10,
    "start_time": "2022-12-02T18:32:53.944Z"
   },
   {
    "duration": 8,
    "start_time": "2022-12-02T18:32:58.067Z"
   },
   {
    "duration": 11,
    "start_time": "2022-12-02T18:33:05.224Z"
   },
   {
    "duration": 16,
    "start_time": "2022-12-02T18:34:10.058Z"
   },
   {
    "duration": 15,
    "start_time": "2022-12-02T18:34:21.131Z"
   },
   {
    "duration": 14,
    "start_time": "2022-12-02T18:34:28.702Z"
   },
   {
    "duration": 12,
    "start_time": "2022-12-02T18:34:32.500Z"
   },
   {
    "duration": 12,
    "start_time": "2022-12-02T18:34:37.155Z"
   },
   {
    "duration": 11,
    "start_time": "2022-12-02T18:34:47.898Z"
   },
   {
    "duration": 13,
    "start_time": "2022-12-02T18:34:59.466Z"
   },
   {
    "duration": 17,
    "start_time": "2022-12-02T18:35:06.254Z"
   },
   {
    "duration": 20,
    "start_time": "2022-12-02T18:35:12.448Z"
   },
   {
    "duration": 26,
    "start_time": "2022-12-02T18:36:24.016Z"
   },
   {
    "duration": 7,
    "start_time": "2022-12-02T18:38:18.700Z"
   },
   {
    "duration": 11,
    "start_time": "2022-12-02T18:41:02.615Z"
   },
   {
    "duration": 1234,
    "start_time": "2022-12-02T18:41:17.828Z"
   },
   {
    "duration": 64,
    "start_time": "2022-12-02T18:41:19.065Z"
   },
   {
    "duration": 50,
    "start_time": "2022-12-02T18:41:19.131Z"
   },
   {
    "duration": 11,
    "start_time": "2022-12-02T18:41:19.184Z"
   },
   {
    "duration": 428,
    "start_time": "2022-12-02T18:41:19.196Z"
   },
   {
    "duration": 8,
    "start_time": "2022-12-02T18:41:19.626Z"
   },
   {
    "duration": 49,
    "start_time": "2022-12-02T18:41:19.636Z"
   },
   {
    "duration": 22,
    "start_time": "2022-12-02T18:41:19.686Z"
   },
   {
    "duration": 17,
    "start_time": "2022-12-02T18:41:19.710Z"
   },
   {
    "duration": 22,
    "start_time": "2022-12-02T18:41:19.731Z"
   },
   {
    "duration": 9,
    "start_time": "2022-12-02T18:41:19.755Z"
   },
   {
    "duration": 44,
    "start_time": "2022-12-02T18:41:19.766Z"
   },
   {
    "duration": 5,
    "start_time": "2022-12-02T18:41:19.812Z"
   },
   {
    "duration": 36,
    "start_time": "2022-12-02T18:41:19.820Z"
   },
   {
    "duration": 16,
    "start_time": "2022-12-02T18:41:19.858Z"
   },
   {
    "duration": 13,
    "start_time": "2022-12-02T18:41:19.876Z"
   },
   {
    "duration": 179,
    "start_time": "2022-12-02T18:41:19.890Z"
   },
   {
    "duration": 8,
    "start_time": "2022-12-02T18:41:20.071Z"
   },
   {
    "duration": 177,
    "start_time": "2022-12-02T18:41:20.080Z"
   },
   {
    "duration": 133,
    "start_time": "2022-12-02T18:41:20.258Z"
   },
   {
    "duration": 0,
    "start_time": "2022-12-02T18:41:20.393Z"
   },
   {
    "duration": 0,
    "start_time": "2022-12-02T18:41:20.394Z"
   },
   {
    "duration": 0,
    "start_time": "2022-12-02T18:41:20.395Z"
   },
   {
    "duration": 0,
    "start_time": "2022-12-02T18:41:20.396Z"
   },
   {
    "duration": 0,
    "start_time": "2022-12-02T18:41:20.397Z"
   },
   {
    "duration": 0,
    "start_time": "2022-12-02T18:41:20.398Z"
   },
   {
    "duration": 0,
    "start_time": "2022-12-02T18:41:20.399Z"
   },
   {
    "duration": 0,
    "start_time": "2022-12-02T18:41:20.400Z"
   },
   {
    "duration": 0,
    "start_time": "2022-12-02T18:41:20.402Z"
   },
   {
    "duration": 0,
    "start_time": "2022-12-02T18:41:20.403Z"
   },
   {
    "duration": 0,
    "start_time": "2022-12-02T18:41:20.405Z"
   },
   {
    "duration": 0,
    "start_time": "2022-12-02T18:41:20.406Z"
   },
   {
    "duration": 0,
    "start_time": "2022-12-02T18:41:20.407Z"
   },
   {
    "duration": 13,
    "start_time": "2022-12-02T18:42:48.037Z"
   },
   {
    "duration": 22,
    "start_time": "2022-12-02T18:42:58.467Z"
   },
   {
    "duration": 8,
    "start_time": "2022-12-02T18:44:03.455Z"
   },
   {
    "duration": 30,
    "start_time": "2022-12-02T18:44:23.101Z"
   },
   {
    "duration": 7,
    "start_time": "2022-12-02T18:44:48.437Z"
   },
   {
    "duration": 25,
    "start_time": "2022-12-02T18:44:53.747Z"
   },
   {
    "duration": 5,
    "start_time": "2022-12-02T18:45:20.498Z"
   },
   {
    "duration": 1217,
    "start_time": "2022-12-02T18:45:30.946Z"
   },
   {
    "duration": 55,
    "start_time": "2022-12-02T18:45:32.166Z"
   },
   {
    "duration": 43,
    "start_time": "2022-12-02T18:45:32.223Z"
   },
   {
    "duration": 10,
    "start_time": "2022-12-02T18:45:32.268Z"
   },
   {
    "duration": 460,
    "start_time": "2022-12-02T18:45:32.280Z"
   },
   {
    "duration": 15,
    "start_time": "2022-12-02T18:45:32.743Z"
   },
   {
    "duration": 36,
    "start_time": "2022-12-02T18:45:32.759Z"
   },
   {
    "duration": 16,
    "start_time": "2022-12-02T18:45:32.798Z"
   },
   {
    "duration": 16,
    "start_time": "2022-12-02T18:45:32.816Z"
   },
   {
    "duration": 36,
    "start_time": "2022-12-02T18:45:32.834Z"
   },
   {
    "duration": 9,
    "start_time": "2022-12-02T18:45:32.872Z"
   },
   {
    "duration": 35,
    "start_time": "2022-12-02T18:45:32.883Z"
   },
   {
    "duration": 35,
    "start_time": "2022-12-02T18:45:32.920Z"
   },
   {
    "duration": 8,
    "start_time": "2022-12-02T18:45:32.958Z"
   },
   {
    "duration": 14,
    "start_time": "2022-12-02T18:45:32.968Z"
   },
   {
    "duration": 13,
    "start_time": "2022-12-02T18:45:32.984Z"
   },
   {
    "duration": 206,
    "start_time": "2022-12-02T18:45:32.999Z"
   },
   {
    "duration": 10,
    "start_time": "2022-12-02T18:45:33.207Z"
   },
   {
    "duration": 172,
    "start_time": "2022-12-02T18:45:33.219Z"
   },
   {
    "duration": 534,
    "start_time": "2022-12-02T18:45:33.393Z"
   },
   {
    "duration": 38168,
    "start_time": "2022-12-02T18:45:33.929Z"
   },
   {
    "duration": 508,
    "start_time": "2022-12-02T18:46:12.099Z"
   },
   {
    "duration": 38688,
    "start_time": "2022-12-02T18:46:12.609Z"
   },
   {
    "duration": 5,
    "start_time": "2022-12-02T18:46:51.298Z"
   },
   {
    "duration": 29,
    "start_time": "2022-12-02T18:46:51.304Z"
   },
   {
    "duration": 574,
    "start_time": "2022-12-02T18:46:51.335Z"
   },
   {
    "duration": 47112,
    "start_time": "2022-12-02T18:46:51.911Z"
   },
   {
    "duration": 4,
    "start_time": "2022-12-02T18:47:39.025Z"
   },
   {
    "duration": 25,
    "start_time": "2022-12-02T18:47:39.030Z"
   },
   {
    "duration": 39205,
    "start_time": "2022-12-02T18:47:39.056Z"
   },
   {
    "duration": 0,
    "start_time": "2022-12-02T18:48:18.263Z"
   },
   {
    "duration": 0,
    "start_time": "2022-12-02T18:48:18.264Z"
   },
   {
    "duration": 0,
    "start_time": "2022-12-02T18:48:18.266Z"
   },
   {
    "duration": 362,
    "start_time": "2022-12-02T18:48:57.989Z"
   },
   {
    "duration": 9,
    "start_time": "2022-12-02T18:49:08.548Z"
   },
   {
    "duration": 1154,
    "start_time": "2022-12-02T18:49:44.263Z"
   },
   {
    "duration": 53,
    "start_time": "2022-12-02T18:49:45.419Z"
   },
   {
    "duration": 29,
    "start_time": "2022-12-02T18:49:45.475Z"
   },
   {
    "duration": 10,
    "start_time": "2022-12-02T18:49:45.507Z"
   },
   {
    "duration": 418,
    "start_time": "2022-12-02T18:49:45.519Z"
   },
   {
    "duration": 5,
    "start_time": "2022-12-02T18:49:45.939Z"
   },
   {
    "duration": 43,
    "start_time": "2022-12-02T18:49:45.954Z"
   },
   {
    "duration": 30,
    "start_time": "2022-12-02T18:49:45.999Z"
   },
   {
    "duration": 19,
    "start_time": "2022-12-02T18:49:46.031Z"
   },
   {
    "duration": 27,
    "start_time": "2022-12-02T18:49:46.053Z"
   },
   {
    "duration": 8,
    "start_time": "2022-12-02T18:49:46.081Z"
   },
   {
    "duration": 37,
    "start_time": "2022-12-02T18:49:46.090Z"
   },
   {
    "duration": 5,
    "start_time": "2022-12-02T18:49:46.129Z"
   },
   {
    "duration": 7,
    "start_time": "2022-12-02T18:49:46.155Z"
   },
   {
    "duration": 13,
    "start_time": "2022-12-02T18:49:46.164Z"
   },
   {
    "duration": 11,
    "start_time": "2022-12-02T18:49:46.179Z"
   },
   {
    "duration": 184,
    "start_time": "2022-12-02T18:49:46.192Z"
   },
   {
    "duration": 9,
    "start_time": "2022-12-02T18:49:46.377Z"
   },
   {
    "duration": 167,
    "start_time": "2022-12-02T18:49:46.388Z"
   },
   {
    "duration": 513,
    "start_time": "2022-12-02T18:49:46.557Z"
   },
   {
    "duration": 37149,
    "start_time": "2022-12-02T18:49:47.071Z"
   },
   {
    "duration": 546,
    "start_time": "2022-12-02T18:50:24.222Z"
   },
   {
    "duration": 37609,
    "start_time": "2022-12-02T18:50:24.770Z"
   },
   {
    "duration": 5,
    "start_time": "2022-12-02T18:51:02.381Z"
   },
   {
    "duration": 23,
    "start_time": "2022-12-02T18:51:02.388Z"
   },
   {
    "duration": 581,
    "start_time": "2022-12-02T18:51:02.413Z"
   },
   {
    "duration": 45362,
    "start_time": "2022-12-02T18:51:02.996Z"
   },
   {
    "duration": 4,
    "start_time": "2022-12-02T18:51:48.362Z"
   },
   {
    "duration": 23,
    "start_time": "2022-12-02T18:51:48.367Z"
   },
   {
    "duration": 359,
    "start_time": "2022-12-02T18:51:48.392Z"
   },
   {
    "duration": 7,
    "start_time": "2022-12-02T18:51:48.755Z"
   },
   {
    "duration": 0,
    "start_time": "2022-12-02T18:51:48.764Z"
   },
   {
    "duration": 0,
    "start_time": "2022-12-02T18:51:48.766Z"
   },
   {
    "duration": 27604,
    "start_time": "2022-12-02T18:53:56.879Z"
   },
   {
    "duration": 842,
    "start_time": "2022-12-02T18:56:58.495Z"
   },
   {
    "duration": 50,
    "start_time": "2022-12-02T18:57:03.104Z"
   },
   {
    "duration": 1152,
    "start_time": "2022-12-02T19:08:51.719Z"
   },
   {
    "duration": 52,
    "start_time": "2022-12-02T19:08:52.873Z"
   },
   {
    "duration": 31,
    "start_time": "2022-12-02T19:08:52.927Z"
   },
   {
    "duration": 11,
    "start_time": "2022-12-02T19:08:52.961Z"
   },
   {
    "duration": 410,
    "start_time": "2022-12-02T19:08:52.974Z"
   },
   {
    "duration": 4,
    "start_time": "2022-12-02T19:08:53.386Z"
   },
   {
    "duration": 41,
    "start_time": "2022-12-02T19:08:53.392Z"
   },
   {
    "duration": 16,
    "start_time": "2022-12-02T19:08:53.435Z"
   },
   {
    "duration": 65,
    "start_time": "2022-12-02T19:08:53.452Z"
   },
   {
    "duration": 7,
    "start_time": "2022-12-02T19:08:53.520Z"
   },
   {
    "duration": 39,
    "start_time": "2022-12-02T19:08:53.529Z"
   },
   {
    "duration": 6,
    "start_time": "2022-12-02T19:08:53.570Z"
   },
   {
    "duration": 14,
    "start_time": "2022-12-02T19:08:53.579Z"
   },
   {
    "duration": 11,
    "start_time": "2022-12-02T19:08:53.595Z"
   },
   {
    "duration": 13,
    "start_time": "2022-12-02T19:08:53.607Z"
   },
   {
    "duration": 214,
    "start_time": "2022-12-02T19:08:53.622Z"
   },
   {
    "duration": 21,
    "start_time": "2022-12-02T19:08:53.838Z"
   },
   {
    "duration": 194,
    "start_time": "2022-12-02T19:08:53.862Z"
   },
   {
    "duration": 535,
    "start_time": "2022-12-02T19:08:54.058Z"
   },
   {
    "duration": 24784,
    "start_time": "2022-12-02T19:08:54.594Z"
   },
   {
    "duration": 524,
    "start_time": "2022-12-02T19:09:19.380Z"
   },
   {
    "duration": 82814,
    "start_time": "2022-12-02T19:09:19.906Z"
   },
   {
    "duration": 4,
    "start_time": "2022-12-02T19:10:42.722Z"
   },
   {
    "duration": 27,
    "start_time": "2022-12-02T19:10:42.728Z"
   },
   {
    "duration": 588,
    "start_time": "2022-12-02T19:10:42.757Z"
   },
   {
    "duration": 151529,
    "start_time": "2022-12-02T19:10:43.347Z"
   },
   {
    "duration": 5,
    "start_time": "2022-12-02T19:13:14.878Z"
   },
   {
    "duration": 20,
    "start_time": "2022-12-02T19:13:14.887Z"
   },
   {
    "duration": 372,
    "start_time": "2022-12-02T19:13:14.909Z"
   },
   {
    "duration": 87095,
    "start_time": "2022-12-02T19:13:15.282Z"
   },
   {
    "duration": 808,
    "start_time": "2022-12-02T19:14:42.379Z"
   },
   {
    "duration": 53,
    "start_time": "2022-12-02T19:14:43.189Z"
   },
   {
    "duration": 952,
    "start_time": "2022-12-02T20:29:25.648Z"
   },
   {
    "duration": 71,
    "start_time": "2022-12-02T20:30:20.111Z"
   },
   {
    "duration": 1043,
    "start_time": "2022-12-02T20:36:30.035Z"
   },
   {
    "duration": 4,
    "start_time": "2022-12-02T20:36:38.894Z"
   },
   {
    "duration": 939,
    "start_time": "2022-12-02T20:36:45.051Z"
   },
   {
    "duration": 59,
    "start_time": "2022-12-02T20:37:22.752Z"
   },
   {
    "duration": 933,
    "start_time": "2022-12-02T20:37:58.274Z"
   },
   {
    "duration": 69,
    "start_time": "2022-12-02T20:38:03.918Z"
   },
   {
    "duration": 62,
    "start_time": "2022-12-02T20:39:21.006Z"
   },
   {
    "duration": 13,
    "start_time": "2022-12-02T20:41:53.499Z"
   },
   {
    "duration": 1118,
    "start_time": "2022-12-02T21:06:40.544Z"
   },
   {
    "duration": 54,
    "start_time": "2022-12-02T21:06:41.663Z"
   },
   {
    "duration": 26,
    "start_time": "2022-12-02T21:06:41.719Z"
   },
   {
    "duration": 9,
    "start_time": "2022-12-02T21:06:41.747Z"
   },
   {
    "duration": 387,
    "start_time": "2022-12-02T21:06:41.757Z"
   },
   {
    "duration": 4,
    "start_time": "2022-12-02T21:06:42.154Z"
   },
   {
    "duration": 15,
    "start_time": "2022-12-02T21:06:42.159Z"
   },
   {
    "duration": 22,
    "start_time": "2022-12-02T21:06:42.176Z"
   },
   {
    "duration": 13,
    "start_time": "2022-12-02T21:06:42.199Z"
   },
   {
    "duration": 7,
    "start_time": "2022-12-02T21:06:42.214Z"
   },
   {
    "duration": 60,
    "start_time": "2022-12-02T21:06:42.222Z"
   },
   {
    "duration": 5,
    "start_time": "2022-12-02T21:06:42.283Z"
   },
   {
    "duration": 10,
    "start_time": "2022-12-02T21:06:42.289Z"
   },
   {
    "duration": 8,
    "start_time": "2022-12-02T21:06:42.300Z"
   },
   {
    "duration": 14,
    "start_time": "2022-12-02T21:06:42.310Z"
   },
   {
    "duration": 157,
    "start_time": "2022-12-02T21:06:42.326Z"
   },
   {
    "duration": 8,
    "start_time": "2022-12-02T21:06:42.484Z"
   },
   {
    "duration": 144,
    "start_time": "2022-12-02T21:06:42.493Z"
   },
   {
    "duration": 475,
    "start_time": "2022-12-02T21:06:42.638Z"
   },
   {
    "duration": 23199,
    "start_time": "2022-12-02T21:06:43.114Z"
   },
   {
    "duration": 487,
    "start_time": "2022-12-02T21:07:06.315Z"
   },
   {
    "duration": 77988,
    "start_time": "2022-12-02T21:07:06.804Z"
   },
   {
    "duration": 4,
    "start_time": "2022-12-02T21:08:24.794Z"
   },
   {
    "duration": 16,
    "start_time": "2022-12-02T21:08:24.799Z"
   },
   {
    "duration": 547,
    "start_time": "2022-12-02T21:08:24.817Z"
   },
   {
    "duration": 141230,
    "start_time": "2022-12-02T21:08:25.366Z"
   },
   {
    "duration": 5,
    "start_time": "2022-12-02T21:10:46.598Z"
   },
   {
    "duration": 11,
    "start_time": "2022-12-02T21:10:46.607Z"
   },
   {
    "duration": 363,
    "start_time": "2022-12-02T21:10:46.620Z"
   },
   {
    "duration": 82200,
    "start_time": "2022-12-02T21:10:46.985Z"
   },
   {
    "duration": 909,
    "start_time": "2022-12-02T21:12:09.187Z"
   },
   {
    "duration": 13,
    "start_time": "2022-12-02T21:12:10.098Z"
   }
  ],
  "kernelspec": {
   "display_name": "Python 3 (ipykernel)",
   "language": "python",
   "name": "python3"
  },
  "language_info": {
   "codemirror_mode": {
    "name": "ipython",
    "version": 3
   },
   "file_extension": ".py",
   "mimetype": "text/x-python",
   "name": "python",
   "nbconvert_exporter": "python",
   "pygments_lexer": "ipython3",
   "version": "3.9.12"
  },
  "toc": {
   "base_numbering": 1,
   "nav_menu": {},
   "number_sections": true,
   "sideBar": true,
   "skip_h1_title": true,
   "title_cell": "Содержание",
   "title_sidebar": "Contents",
   "toc_cell": true,
   "toc_position": {
    "height": "calc(100% - 180px)",
    "left": "10px",
    "top": "150px",
    "width": "165px"
   },
   "toc_section_display": true,
   "toc_window_display": true
  }
 },
 "nbformat": 4,
 "nbformat_minor": 2
}
